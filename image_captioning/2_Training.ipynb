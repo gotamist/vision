{
 "cells": [
  {
   "cell_type": "markdown",
   "metadata": {},
   "source": [
    "# Computer Vision Nanodegree\n",
    "\n",
    "## Project: Image Captioning\n",
    "\n",
    "---\n",
    "\n",
    "In this notebook, you will train your CNN-RNN model.  \n",
    "\n",
    "You are welcome and encouraged to try out many different architectures and hyperparameters when searching for a good model.\n",
    "\n",
    "This does have the potential to make the project quite messy!  Before submitting your project, make sure that you clean up:\n",
    "- the code you write in this notebook.  The notebook should describe how to train a single CNN-RNN architecture, corresponding to your final choice of hyperparameters.  You should structure the notebook so that the reviewer can replicate your results by running the code in this notebook.  \n",
    "- the output of the code cell in **Step 2**.  The output should show the output obtained when training the model from scratch.\n",
    "\n",
    "This notebook **will be graded**.  \n",
    "\n",
    "Feel free to use the links below to navigate the notebook:\n",
    "- [Step 1](#step1): Training Setup\n",
    "- [Step 2](#step2): Train your Model\n",
    "- [Step 3](#step3): (Optional) Validate your Model"
   ]
  },
  {
   "cell_type": "markdown",
   "metadata": {},
   "source": [
    "<a id='step1'></a>\n",
    "## Step 1: Training Setup\n",
    "\n",
    "In this step of the notebook, you will customize the training of your CNN-RNN model by specifying hyperparameters and setting other options that are important to the training procedure.  The values you set now will be used when training your model in **Step 2** below.\n",
    "\n",
    "You should only amend blocks of code that are preceded by a `TODO` statement.  **Any code blocks that are not preceded by a `TODO` statement should not be modified**.\n",
    "\n",
    "### Task #1\n",
    "\n",
    "Begin by setting the following variables:\n",
    "- `batch_size` - the batch size of each training batch.  It is the number of image-caption pairs used to amend the model weights in each training step. \n",
    "- `vocab_threshold` - the minimum word count threshold.  Note that a larger threshold will result in a smaller vocabulary, whereas a smaller threshold will include rarer words and result in a larger vocabulary.  \n",
    "- `vocab_from_file` - a Boolean that decides whether to load the vocabulary from file. \n",
    "- `embed_size` - the dimensionality of the image and word embeddings.  \n",
    "- `hidden_size` - the number of features in the hidden state of the RNN decoder.  \n",
    "- `num_epochs` - the number of epochs to train the model.  We recommend that you set `num_epochs=3`, but feel free to increase or decrease this number as you wish.  [This paper](https://arxiv.org/pdf/1502.03044.pdf) trained a captioning model on a single state-of-the-art GPU for 3 days, but you'll soon see that you can get reasonable results in a matter of a few hours!  (_But of course, if you want your model to compete with current research, you will have to train for much longer._)\n",
    "- `save_every` - determines how often to save the model weights.  We recommend that you set `save_every=1`, to save the model weights after each epoch.  This way, after the `i`th epoch, the encoder and decoder weights will be saved in the `models/` folder as `encoder-i.pkl` and `decoder-i.pkl`, respectively.\n",
    "- `print_every` - determines how often to print the batch loss to the Jupyter notebook while training.  Note that you **will not** observe a monotonic decrease in the loss function while training - this is perfectly fine and completely expected!  You are encouraged to keep this at its default value of `100` to avoid clogging the notebook, but feel free to change it.\n",
    "- `log_file` - the name of the text file containing - for every step - how the loss and perplexity evolved during training.\n",
    "\n",
    "If you're not sure where to begin to set some of the values above, you can peruse [this paper](https://arxiv.org/pdf/1502.03044.pdf) and [this paper](https://arxiv.org/pdf/1411.4555.pdf) for useful guidance!  **To avoid spending too long on this notebook**, you are encouraged to consult these suggested research papers to obtain a strong initial guess for which hyperparameters are likely to work best.  Then, train a single model, and proceed to the next notebook (**3_Inference.ipynb**).  If you are unhappy with your performance, you can return to this notebook to tweak the hyperparameters (and/or the architecture in **model.py**) and re-train your model.\n",
    "\n",
    "### Question 1\n",
    "\n",
    "**Question:** Describe your CNN-RNN architecture in detail.  With this architecture in mind, how did you select the values of the variables in Task 1?  If you consulted a research paper detailing a successful implementation of an image captioning model, please provide the reference.\n",
    "\n",
    "**Answer:** The architecture here consists of an encoder and a decoder.  The encoder uses transfer learning, where a pretrained resnet50 is connected to a fully connected layer to produce an embedding (`embed_size=300`).  The weights in the resnet are frozen while those in the fully connected layer are trainable. \n",
    "\n",
    "For the decoder RNN, there is a mulit-layer LSTM cell followed by a fully connected layer.  I have used 2 stacked LSTM layers.  I found it to have better performance than 1, 3 or 4 layers.  The LSTM is followed by a fully connected layer that takes the output of the LSTM and produces a vector of probabilities over the vocabulary (the most likely word to be output, could be obtained, for example, by doing an `argmax` on this vector). The output of the decoder at each time step is used as the input to the next timestep (after it is embedded into 300-element vector using `torch.nn.Embedding`.\n",
    "\n",
    "I have also used dropout between the various LSTM cells.  I also tried a dropout layer after the LSTMs, but found that the training loss remained too high.  So, I did not used this dropout layer in the end.  \n",
    "\n",
    "I closely consulted [this paper](https://arxiv.org/pdf/1502.03044.pdf) as a guide for the architecture and the parameters.\n",
    "\n",
    "\n",
    "### (Optional) Task #2\n",
    "\n",
    "Note that we have provided a recommended image transform `transform_train` for pre-processing the training images, but you are welcome (and encouraged!) to modify it as you wish.  When modifying this transform, keep in mind that:\n",
    "- the images in the dataset have varying heights and widths, and \n",
    "- if using a pre-trained model, you must perform the corresponding appropriate normalization.\n",
    "\n",
    "### Question 2\n",
    "\n",
    "**Question:** How did you select the transform in `transform_train`?  If you left the transform at its provided value, why do you think that it is a good choice for your CNN architecture?\n",
    "\n",
    "**Answer:** \n",
    "\n",
    "### Task #3\n",
    "\n",
    "Next, you will specify a Python list containing the learnable parameters of the model.  For instance, if you decide to make all weights in the decoder trainable, but only want to train the weights in the embedding layer of the encoder, then you should set `params` to something like:\n",
    "```\n",
    "params = list(decoder.parameters()) + list(encoder.embed.parameters()) \n",
    "```\n",
    "\n",
    "### Question 3\n",
    "\n",
    "**Question:** How did you select the trainable parameters of your architecture?  Why do you think this is a good choice?\n",
    "\n",
    "**Answer:** \n",
    "\n",
    "### Task #4\n",
    "\n",
    "Finally, you will select an [optimizer](http://pytorch.org/docs/master/optim.html#torch.optim.Optimizer).\n",
    "\n",
    "### Question 4\n",
    "\n",
    "**Question:** How did you select the optimizer used to train your model?\n",
    "\n",
    "**Answer:** "
   ]
  },
  {
   "cell_type": "code",
   "execution_count": 1,
   "metadata": {},
   "outputs": [],
   "source": [
    "import torch\n",
    "import torch.nn as nn\n",
    "from torchvision import transforms\n",
    "import sys\n",
    "sys.path.append('/opt/cocoapi/PythonAPI')\n",
    "from pycocotools.coco import COCO\n",
    "from data_loader import get_loader\n",
    "from model import EncoderCNN, DecoderRNN\n",
    "import math\n",
    "import os"
   ]
  },
  {
   "cell_type": "code",
   "execution_count": 6,
   "metadata": {},
   "outputs": [],
   "source": [
    "## TODO #1: Select appropriate values for the Python variables below.\n",
    "num_epochs = 20             # number of training epochs    \n",
    "batch_size = 512          # batch size\n",
    "vocab_threshold = 5        # minimum word count threshold\n",
    "vocab_from_file = False    # if True, load existing vocab file\n",
    "embed_size = 300          # dimensionality of image and word embeddings\n",
    "hidden_size = 256          # number of features in hidden state of the RNN decoder\n",
    "save_every = 1             # determines frequency of saving model weights\n",
    "print_every = 100          # determines window for printing average loss\n",
    "log_file = 'training_log.txt'       # name of file with saved training loss and perplexity\n",
    "drop_ratio=0.1\n",
    "num_layers=2"
   ]
  },
  {
   "cell_type": "code",
   "execution_count": 3,
   "metadata": {},
   "outputs": [
    {
     "name": "stdout",
     "output_type": "stream",
     "text": [
      "loading annotations into memory...\n",
      "Done (t=0.51s)\n",
      "creating index...\n",
      "index created!\n",
      "[0/414113] Tokenizing captions...\n",
      "[100000/414113] Tokenizing captions...\n",
      "[200000/414113] Tokenizing captions...\n",
      "[300000/414113] Tokenizing captions...\n",
      "[400000/414113] Tokenizing captions...\n",
      "loading annotations into memory...\n",
      "Done (t=0.55s)\n",
      "creating index...\n"
     ]
    },
    {
     "name": "stderr",
     "output_type": "stream",
     "text": [
      "  0%|          | 2030/414113 [00:00<00:39, 10392.94it/s]"
     ]
    },
    {
     "name": "stdout",
     "output_type": "stream",
     "text": [
      "index created!\n",
      "Obtaining caption lengths...\n"
     ]
    },
    {
     "name": "stderr",
     "output_type": "stream",
     "text": [
      "100%|██████████| 414113/414113 [00:41<00:00, 9994.67it/s] \n"
     ]
    }
   ],
   "source": [
    "# (Optional) TODO #2: Amend the image transform below.\n",
    "transform_train = transforms.Compose([ \n",
    "    transforms.Resize(256),                          # smaller edge of image resized to 256\n",
    "    transforms.RandomCrop(224),                      # get 224x224 crop from random location\n",
    "    transforms.RandomHorizontalFlip(),               # horizontally flip image with probability=0.5\n",
    "    transforms.ToTensor(),                           # convert the PIL Image to a tensor\n",
    "    transforms.Normalize((0.485, 0.456, 0.406),      # normalize image for pre-trained model\n",
    "                         (0.229, 0.224, 0.225))])\n",
    "\n",
    "# Build data loader.\n",
    "data_loader = get_loader(transform=transform_train,\n",
    "                         mode='train',\n",
    "                         batch_size=batch_size,\n",
    "                         vocab_threshold=vocab_threshold,\n",
    "                         cocoapi_loc='/data/datasets', #comment this out if not running locally.\n",
    "                         vocab_from_file=vocab_from_file)\n",
    "\n",
    "# The size of the vocabulary.\n",
    "vocab_size = len(data_loader.dataset.vocab)\n",
    "\n",
    "# Initialize the encoder and decoder. \n",
    "encoder = EncoderCNN(embed_size)\n",
    "decoder = DecoderRNN(embed_size, hidden_size, vocab_size, num_layers=num_layers, drop_ratio=0.05)\n",
    "\n",
    "# Move models to GPU if CUDA is available. \n",
    "device = torch.device(\"cuda\" if torch.cuda.is_available() else \"cpu\")\n",
    "encoder.to(device)\n",
    "decoder.to(device)\n",
    "\n",
    "# Define the loss function. \n",
    "criterion = nn.CrossEntropyLoss().cuda() if torch.cuda.is_available() else nn.CrossEntropyLoss()\n",
    "\n",
    "# TODO #3: Specify the learnable parameters of the model.\n",
    "params = list(encoder.embed.parameters()) + list(decoder.parameters())\n",
    "\n",
    "lr=0.001\n",
    "# TODO #4: Define the optimizer.\n",
    "optimizer = torch.optim.Adam(params, lr=lr )\n",
    "# the other optimizer params are default - betas=(0.9, 0.999), eps=1e-08, weight_decay=0, amsgrad=False)\n",
    "\n",
    "# Set the total number of training steps per epoch.\n",
    "total_step = math.ceil(len(data_loader.dataset.caption_lengths) / data_loader.batch_sampler.batch_size)"
   ]
  },
  {
   "cell_type": "markdown",
   "metadata": {},
   "source": [
    "<a id='step2'></a>\n",
    "## Step 2: Train your Model\n",
    "\n",
    "Once you have executed the code cell in **Step 1**, the training procedure below should run without issue.  \n",
    "\n",
    "It is completely fine to leave the code cell below as-is without modifications to train your model.  However, if you would like to modify the code used to train the model below, you must ensure that your changes are easily parsed by your reviewer.  In other words, make sure to provide appropriate comments to describe how your code works!  \n",
    "\n",
    "You may find it useful to load saved weights to resume training.  In that case, note the names of the files containing the encoder and decoder weights that you'd like to load (`encoder_file` and `decoder_file`).  Then you can load the weights by using the lines below:\n",
    "\n",
    "```python\n",
    "# Load pre-trained weights before resuming training.\n",
    "encoder.load_state_dict(torch.load(os.path.join('./models', encoder_file)))\n",
    "decoder.load_state_dict(torch.load(os.path.join('./models', decoder_file)))\n",
    "```\n",
    "\n",
    "While trying out parameters, make sure to take extensive notes and record the settings that you used in your various training runs.  In particular, you don't want to encounter a situation where you've trained a model for several hours but can't remember what settings you used :).\n",
    "\n",
    "### A Note on Tuning Hyperparameters\n",
    "\n",
    "To figure out how well your model is doing, you can look at how the training loss and perplexity evolve during training - and for the purposes of this project, you are encouraged to amend the hyperparameters based on this information.  \n",
    "\n",
    "However, this will not tell you if your model is overfitting to the training data, and, unfortunately, overfitting is a problem that is commonly encountered when training image captioning models.  \n",
    "\n",
    "For this project, you need not worry about overfitting. **This project does not have strict requirements regarding the performance of your model**, and you just need to demonstrate that your model has learned **_something_** when you generate captions on the test data.  For now, we strongly encourage you to train your model for the suggested 3 epochs without worrying about performance; then, you should immediately transition to the next notebook in the sequence (**3_Inference.ipynb**) to see how your model performs on the test data.  If your model needs to be changed, you can come back to this notebook, amend hyperparameters (if necessary), and re-train the model.\n",
    "\n",
    "That said, if you would like to go above and beyond in this project, you can read about some approaches to minimizing overfitting in section 4.3.1 of [this paper](http://ieeexplore.ieee.org/stamp/stamp.jsp?arnumber=7505636).  In the next (optional) step of this notebook, we provide some guidance for assessing the performance on the validation dataset."
   ]
  },
  {
   "cell_type": "code",
   "execution_count": 4,
   "metadata": {
    "scrolled": true
   },
   "outputs": [
    {
     "name": "stdout",
     "output_type": "stream",
     "text": [
      "Epoch [1/20], Step [100/809], Loss: 4.5313, Perplexity: 92.8801\n",
      "Epoch [1/20], Step [200/809], Loss: 4.2458, Perplexity: 69.81078\n",
      "Epoch [1/20], Step [300/809], Loss: 4.0970, Perplexity: 60.15886\n",
      "Epoch [1/20], Step [400/809], Loss: 3.7957, Perplexity: 44.50791\n",
      "Epoch [1/20], Step [500/809], Loss: 3.5724, Perplexity: 35.6022\n",
      "Epoch [1/20], Step [600/809], Loss: 3.4219, Perplexity: 30.6274\n",
      "Epoch [1/20], Step [700/809], Loss: 3.2228, Perplexity: 25.0974\n",
      "Epoch [1/20], Step [800/809], Loss: 3.3246, Perplexity: 27.7882\n",
      "Epoch [2/20], Step [100/809], Loss: 3.2034, Perplexity: 24.6152\n",
      "Epoch [2/20], Step [200/809], Loss: 3.2671, Perplexity: 26.2343\n",
      "Epoch [2/20], Step [300/809], Loss: 2.9367, Perplexity: 18.8544\n",
      "Epoch [2/20], Step [400/809], Loss: 2.9699, Perplexity: 19.4902\n",
      "Epoch [2/20], Step [500/809], Loss: 3.2462, Perplexity: 25.6919\n",
      "Epoch [2/20], Step [600/809], Loss: 2.6823, Perplexity: 14.6193\n",
      "Epoch [2/20], Step [700/809], Loss: 2.6627, Perplexity: 14.3353\n",
      "Epoch [2/20], Step [800/809], Loss: 2.8884, Perplexity: 17.9644\n",
      "Epoch [3/20], Step [100/809], Loss: 2.8261, Perplexity: 16.8791\n",
      "Epoch [3/20], Step [200/809], Loss: 2.6500, Perplexity: 14.1537\n",
      "Epoch [3/20], Step [300/809], Loss: 2.8817, Perplexity: 17.8452\n",
      "Epoch [3/20], Step [400/809], Loss: 2.5474, Perplexity: 12.7737\n",
      "Epoch [3/20], Step [500/809], Loss: 2.6009, Perplexity: 13.4760\n",
      "Epoch [3/20], Step [600/809], Loss: 2.3549, Perplexity: 10.5366\n",
      "Epoch [3/20], Step [700/809], Loss: 2.4773, Perplexity: 11.9085\n",
      "Epoch [3/20], Step [800/809], Loss: 2.3460, Perplexity: 10.4440\n",
      "Epoch [4/20], Step [100/809], Loss: 2.3837, Perplexity: 10.8446\n",
      "Epoch [4/20], Step [200/809], Loss: 2.6869, Perplexity: 14.6861\n",
      "Epoch [4/20], Step [300/809], Loss: 2.3468, Perplexity: 10.4515\n",
      "Epoch [4/20], Step [400/809], Loss: 2.2952, Perplexity: 9.92668\n",
      "Epoch [4/20], Step [500/809], Loss: 2.3149, Perplexity: 10.1242\n",
      "Epoch [4/20], Step [600/809], Loss: 2.2314, Perplexity: 9.31320\n",
      "Epoch [4/20], Step [700/809], Loss: 2.1758, Perplexity: 8.80899\n",
      "Epoch [4/20], Step [800/809], Loss: 2.2511, Perplexity: 9.49836\n",
      "Epoch [5/20], Step [100/809], Loss: 2.2885, Perplexity: 9.86020\n",
      "Epoch [5/20], Step [200/809], Loss: 2.1522, Perplexity: 8.60401\n",
      "Epoch [5/20], Step [300/809], Loss: 2.2999, Perplexity: 9.97332\n",
      "Epoch [5/20], Step [400/809], Loss: 2.2357, Perplexity: 9.35275\n",
      "Epoch [5/20], Step [500/809], Loss: 3.1252, Perplexity: 22.7636\n",
      "Epoch [5/20], Step [600/809], Loss: 2.2049, Perplexity: 9.06937\n",
      "Epoch [5/20], Step [700/809], Loss: 2.1457, Perplexity: 8.54825\n",
      "Epoch [5/20], Step [800/809], Loss: 2.1051, Perplexity: 8.20837\n",
      "Epoch [6/20], Step [100/809], Loss: 2.1739, Perplexity: 8.79225\n",
      "Epoch [6/20], Step [200/809], Loss: 2.1061, Perplexity: 8.21590\n",
      "Epoch [6/20], Step [300/809], Loss: 2.0825, Perplexity: 8.02434\n",
      "Epoch [6/20], Step [400/809], Loss: 2.1086, Perplexity: 8.23703\n",
      "Epoch [6/20], Step [500/809], Loss: 2.0784, Perplexity: 7.99162\n",
      "Epoch [6/20], Step [600/809], Loss: 2.3154, Perplexity: 10.1293\n",
      "Epoch [6/20], Step [700/809], Loss: 3.1285, Perplexity: 22.8404\n",
      "Epoch [6/20], Step [800/809], Loss: 2.0867, Perplexity: 8.05793\n",
      "Epoch [7/20], Step [100/809], Loss: 2.1991, Perplexity: 9.01714\n",
      "Epoch [7/20], Step [200/809], Loss: 2.0468, Perplexity: 7.743367\n",
      "Epoch [7/20], Step [300/809], Loss: 2.2369, Perplexity: 9.36416\n",
      "Epoch [7/20], Step [400/809], Loss: 2.0429, Perplexity: 7.71291\n",
      "Epoch [7/20], Step [500/809], Loss: 2.0807, Perplexity: 8.00994\n",
      "Epoch [7/20], Step [600/809], Loss: 2.0990, Perplexity: 8.15815\n",
      "Epoch [7/20], Step [700/809], Loss: 2.3999, Perplexity: 11.0218\n",
      "Epoch [7/20], Step [800/809], Loss: 2.2915, Perplexity: 9.88950\n",
      "Epoch [8/20], Step [100/809], Loss: 2.6825, Perplexity: 14.6223\n",
      "Epoch [8/20], Step [200/809], Loss: 2.0886, Perplexity: 8.07342\n",
      "Epoch [8/20], Step [300/809], Loss: 2.2310, Perplexity: 9.30881\n",
      "Epoch [8/20], Step [400/809], Loss: 2.0421, Perplexity: 7.70684\n",
      "Epoch [8/20], Step [500/809], Loss: 2.4049, Perplexity: 11.0774\n",
      "Epoch [8/20], Step [600/809], Loss: 2.0239, Perplexity: 7.56816\n",
      "Epoch [8/20], Step [700/809], Loss: 2.0498, Perplexity: 7.76642\n",
      "Epoch [8/20], Step [800/809], Loss: 1.9906, Perplexity: 7.31986\n",
      "Epoch [9/20], Step [100/809], Loss: 2.2015, Perplexity: 9.03892\n",
      "Epoch [9/20], Step [200/809], Loss: 2.0042, Perplexity: 7.42025\n",
      "Epoch [9/20], Step [300/809], Loss: 1.9778, Perplexity: 7.22701\n",
      "Epoch [9/20], Step [400/809], Loss: 1.9983, Perplexity: 7.37653\n",
      "Epoch [9/20], Step [500/809], Loss: 2.0111, Perplexity: 7.47173\n",
      "Epoch [9/20], Step [600/809], Loss: 1.9527, Perplexity: 7.04771\n",
      "Epoch [9/20], Step [700/809], Loss: 2.1963, Perplexity: 8.99171\n",
      "Epoch [9/20], Step [800/809], Loss: 1.9659, Perplexity: 7.14142\n",
      "Epoch [10/20], Step [100/809], Loss: 1.9873, Perplexity: 7.2962\n",
      "Epoch [10/20], Step [200/809], Loss: 1.9798, Perplexity: 7.24147\n",
      "Epoch [10/20], Step [300/809], Loss: 2.3748, Perplexity: 10.7489\n",
      "Epoch [10/20], Step [400/809], Loss: 1.9925, Perplexity: 7.33387\n",
      "Epoch [10/20], Step [500/809], Loss: 2.0847, Perplexity: 8.04261\n",
      "Epoch [10/20], Step [600/809], Loss: 1.9726, Perplexity: 7.18971\n",
      "Epoch [10/20], Step [700/809], Loss: 1.9032, Perplexity: 6.70713\n",
      "Epoch [10/20], Step [800/809], Loss: 2.0500, Perplexity: 7.76798\n",
      "Epoch [11/20], Step [100/809], Loss: 1.8809, Perplexity: 6.55959\n",
      "Epoch [11/20], Step [200/809], Loss: 2.0991, Perplexity: 8.15869\n",
      "Epoch [11/20], Step [300/809], Loss: 2.1323, Perplexity: 8.43456\n",
      "Epoch [11/20], Step [400/809], Loss: 1.9335, Perplexity: 6.91408\n",
      "Epoch [11/20], Step [500/809], Loss: 1.9289, Perplexity: 6.88221\n",
      "Epoch [11/20], Step [600/809], Loss: 1.9170, Perplexity: 6.80041\n",
      "Epoch [11/20], Step [700/809], Loss: 1.8785, Perplexity: 6.54397\n",
      "Epoch [11/20], Step [800/809], Loss: 1.8922, Perplexity: 6.63391\n",
      "Epoch [12/20], Step [100/809], Loss: 2.2182, Perplexity: 9.1911\n",
      "Epoch [12/20], Step [200/809], Loss: 1.8731, Perplexity: 6.50856\n",
      "Epoch [12/20], Step [300/809], Loss: 1.9546, Perplexity: 7.06121\n",
      "Epoch [12/20], Step [400/809], Loss: 1.8575, Perplexity: 6.40782\n",
      "Epoch [12/20], Step [500/809], Loss: 1.9286, Perplexity: 6.87978\n",
      "Epoch [12/20], Step [600/809], Loss: 1.8858, Perplexity: 6.59202\n",
      "Epoch [12/20], Step [700/809], Loss: 1.9557, Perplexity: 7.06880\n",
      "Epoch [12/20], Step [800/809], Loss: 1.9573, Perplexity: 7.07991\n",
      "Epoch [13/20], Step [100/809], Loss: 1.9016, Perplexity: 6.6967\n",
      "Epoch [13/20], Step [200/809], Loss: 1.9486, Perplexity: 7.01864\n",
      "Epoch [13/20], Step [300/809], Loss: 1.9999, Perplexity: 7.38822\n",
      "Epoch [13/20], Step [400/809], Loss: 1.8763, Perplexity: 6.52954\n",
      "Epoch [13/20], Step [500/809], Loss: 2.1155, Perplexity: 8.29389\n",
      "Epoch [13/20], Step [600/809], Loss: 1.8753, Perplexity: 6.52285\n",
      "Epoch [13/20], Step [700/809], Loss: 1.8836, Perplexity: 6.57746\n",
      "Epoch [13/20], Step [800/809], Loss: 2.3916, Perplexity: 10.9311\n",
      "Epoch [14/20], Step [100/809], Loss: 1.8645, Perplexity: 6.4527\n",
      "Epoch [14/20], Step [200/809], Loss: 1.9067, Perplexity: 6.73087\n",
      "Epoch [14/20], Step [300/809], Loss: 1.8839, Perplexity: 6.578991\n",
      "Epoch [14/20], Step [400/809], Loss: 1.8478, Perplexity: 6.34586\n",
      "Epoch [14/20], Step [500/809], Loss: 1.8003, Perplexity: 6.05149\n",
      "Epoch [14/20], Step [600/809], Loss: 1.8450, Perplexity: 6.32821\n",
      "Epoch [14/20], Step [700/809], Loss: 1.8859, Perplexity: 6.59205\n",
      "Epoch [14/20], Step [800/809], Loss: 1.8421, Perplexity: 6.31005\n",
      "Epoch [15/20], Step [100/809], Loss: 1.9332, Perplexity: 6.91188\n",
      "Epoch [15/20], Step [200/809], Loss: 1.8937, Perplexity: 6.64390\n",
      "Epoch [15/20], Step [300/809], Loss: 1.7600, Perplexity: 5.81262\n",
      "Epoch [15/20], Step [400/809], Loss: 2.2254, Perplexity: 9.25685\n",
      "Epoch [15/20], Step [500/809], Loss: 1.8099, Perplexity: 6.10968\n",
      "Epoch [15/20], Step [600/809], Loss: 2.0609, Perplexity: 7.85335\n",
      "Epoch [15/20], Step [700/809], Loss: 2.3482, Perplexity: 10.4662\n",
      "Epoch [15/20], Step [800/809], Loss: 2.0885, Perplexity: 8.07291\n",
      "Epoch [16/20], Step [100/809], Loss: 1.9068, Perplexity: 6.7317\n",
      "Epoch [16/20], Step [200/809], Loss: 2.6058, Perplexity: 13.5415\n",
      "Epoch [16/20], Step [300/809], Loss: 2.1245, Perplexity: 8.36889\n",
      "Epoch [16/20], Step [400/809], Loss: 1.8184, Perplexity: 6.16199\n",
      "Epoch [16/20], Step [500/809], Loss: 1.8575, Perplexity: 6.40740\n",
      "Epoch [16/20], Step [600/809], Loss: 1.9103, Perplexity: 6.75536\n",
      "Epoch [16/20], Step [700/809], Loss: 1.9342, Perplexity: 6.91881\n"
     ]
    },
    {
     "name": "stdout",
     "output_type": "stream",
     "text": [
      "Epoch [16/20], Step [800/809], Loss: 1.9215, Perplexity: 6.83091\n",
      "Epoch [17/20], Step [100/809], Loss: 1.8499, Perplexity: 6.3593\n",
      "Epoch [17/20], Step [200/809], Loss: 2.1139, Perplexity: 8.28077\n",
      "Epoch [17/20], Step [300/809], Loss: 2.0832, Perplexity: 8.03000\n",
      "Epoch [17/20], Step [400/809], Loss: 2.2788, Perplexity: 9.76538\n",
      "Epoch [17/20], Step [500/809], Loss: 1.7470, Perplexity: 5.73754\n",
      "Epoch [17/20], Step [600/809], Loss: 1.7728, Perplexity: 5.88726\n",
      "Epoch [17/20], Step [700/809], Loss: 1.8331, Perplexity: 6.25334\n",
      "Epoch [17/20], Step [800/809], Loss: 1.9568, Perplexity: 7.07653\n",
      "Epoch [18/20], Step [100/809], Loss: 1.7662, Perplexity: 5.8483\n",
      "Epoch [18/20], Step [200/809], Loss: 1.7998, Perplexity: 6.04855\n",
      "Epoch [18/20], Step [300/809], Loss: 1.9093, Perplexity: 6.74826\n",
      "Epoch [18/20], Step [400/809], Loss: 2.4920, Perplexity: 12.0852\n",
      "Epoch [18/20], Step [500/809], Loss: 2.1660, Perplexity: 8.72333\n",
      "Epoch [18/20], Step [600/809], Loss: 1.8038, Perplexity: 6.07299\n",
      "Epoch [18/20], Step [700/809], Loss: 1.8557, Perplexity: 6.39603\n",
      "Epoch [18/20], Step [800/809], Loss: 1.8580, Perplexity: 6.41126\n",
      "Epoch [19/20], Step [100/809], Loss: 1.7907, Perplexity: 5.99357\n",
      "Epoch [19/20], Step [200/809], Loss: 1.9553, Perplexity: 7.06621\n",
      "Epoch [19/20], Step [300/809], Loss: 2.1868, Perplexity: 8.90686\n",
      "Epoch [19/20], Step [400/809], Loss: 1.7923, Perplexity: 6.00323\n",
      "Epoch [19/20], Step [500/809], Loss: 1.9797, Perplexity: 7.24089\n",
      "Epoch [19/20], Step [600/809], Loss: 1.8145, Perplexity: 6.13782\n",
      "Epoch [19/20], Step [700/809], Loss: 1.8268, Perplexity: 6.21419\n",
      "Epoch [19/20], Step [800/809], Loss: 1.8090, Perplexity: 6.10468\n",
      "Epoch [20/20], Step [100/809], Loss: 2.0930, Perplexity: 8.10941\n",
      "Epoch [20/20], Step [200/809], Loss: 1.7923, Perplexity: 6.0035\n",
      "Epoch [20/20], Step [300/809], Loss: 2.0742, Perplexity: 7.9582\n",
      "Epoch [20/20], Step [400/809], Loss: 1.8824, Perplexity: 6.56916\n",
      "Epoch [20/20], Step [500/809], Loss: 1.7464, Perplexity: 5.73412\n",
      "Epoch [20/20], Step [600/809], Loss: 1.8219, Perplexity: 6.18381\n",
      "Epoch [20/20], Step [700/809], Loss: 1.7897, Perplexity: 5.98753\n",
      "Epoch [20/20], Step [800/809], Loss: 1.9863, Perplexity: 7.28852\n",
      "Epoch [20/20], Step [809/809], Loss: 1.7853, Perplexity: 5.9616"
     ]
    }
   ],
   "source": [
    "import torch.utils.data as data\n",
    "import numpy as np\n",
    "\n",
    "import requests\n",
    "import time\n",
    "\n",
    "# Open the training log file.\n",
    "f = open(log_file, 'w')\n",
    "\n",
    "\n",
    "#comment this out if running locally\n",
    "# old_time = time.time()\n",
    "# response = requests.request(\"GET\", \n",
    "#                             \"http://metadata.google.internal/computeMetadata/v1/instance/attributes/keep_alive_token\", \n",
    "#                             headers={\"Metadata-Flavor\":\"Google\"})\n",
    "\n",
    "# Create directory (if needed) where models will be saved\n",
    "models_dirname = './models/drop{p}_b{b}_lr{lr}_hidden{h}'.format(p=drop_ratio, b=batch_size,lr=lr,h=hidden_size)\n",
    "if not os.path.exists( models_dirname ):\n",
    "    os.mkdir( models_dirname )  \n",
    "\n",
    "for epoch in range(1, num_epochs+1):\n",
    "    \n",
    "    for i_step in range(1, total_step+1):\n",
    "        #comment this out if running locally\n",
    "#         if time.time() - old_time > 60:\n",
    "#             old_time = time.time()\n",
    "#             requests.request(\"POST\", \n",
    "#                              \"https://nebula.udacity.com/api/v1/remote/keep-alive\", \n",
    "#                              headers={'Authorization': \"STAR \" + response.text})\n",
    "        \n",
    "        # Randomly sample a caption length, and sample indices with that length.\n",
    "        indices = data_loader.dataset.get_train_indices()\n",
    "        # Create and assign a batch sampler to retrieve a batch with the sampled indices.\n",
    "        new_sampler = data.sampler.SubsetRandomSampler(indices=indices)\n",
    "        data_loader.batch_sampler.sampler = new_sampler\n",
    "        \n",
    "        # Obtain the batch.\n",
    "        images, captions = next(iter(data_loader))\n",
    "\n",
    "        # Move batch of images and captions to GPU if CUDA is available.\n",
    "        images = images.to(device)\n",
    "        captions = captions.to(device)\n",
    "        \n",
    "        # Zero the gradients.\n",
    "        decoder.zero_grad()\n",
    "        encoder.zero_grad()\n",
    "        \n",
    "        # Pass the inputs through the CNN-RNN model.\n",
    "        features = encoder(images)\n",
    "        outputs = decoder(features, captions)\n",
    "        \n",
    "        # Calculate the batch loss.\n",
    "        loss = criterion(outputs.view(-1, vocab_size), captions.view(-1))\n",
    "        \n",
    "        # Backward pass.\n",
    "        loss.backward()\n",
    "        \n",
    "        # Update the parameters in the optimizer.\n",
    "        optimizer.step()\n",
    "            \n",
    "        # Get training statistics.\n",
    "        stats = 'Epoch [%d/%d], Step [%d/%d], Loss: %.4f, Perplexity: %5.4f' % (epoch, num_epochs, i_step, total_step, loss.item(), np.exp(loss.item()))\n",
    "        \n",
    "        # Print training statistics (on same line).\n",
    "        print('\\r' + stats, end=\"\")\n",
    "        sys.stdout.flush()\n",
    "        \n",
    "        # Print training statistics to file.\n",
    "        f.write(stats + '\\n')\n",
    "        f.flush()\n",
    "        \n",
    "        # Print training statistics (on different line).\n",
    "        if i_step % print_every == 0:\n",
    "            print('\\r' + stats)\n",
    "            \n",
    "    # Save the weights.\n",
    "    if epoch % save_every == 0:\n",
    "        torch.save(decoder.state_dict(), os.path.join(models_dirname, 'decoder-epoch{ep}.pkl'.format(ep=epoch)))\n",
    "        torch.save(encoder.state_dict(), os.path.join(models_dirname, 'encoder-epoch{ep}.pkl'.format(ep=epoch)))\n",
    "#       torch.save(encoder.state_dict(), os.path.join('./models', 'encoder-%d.pkl' % epoch))\n",
    "\n",
    "# Close the training log file.\n",
    "f.close()"
   ]
  },
  {
   "cell_type": "markdown",
   "metadata": {},
   "source": [
    "<a id='step3'></a>\n",
    "## Step 3: (Optional) Validate your Model\n",
    "\n",
    "To assess potential overfitting, one approach is to assess performance on a validation set.  If you decide to do this **optional** task, you are required to first complete all of the steps in the next notebook in the sequence (**3_Inference.ipynb**); as part of that notebook, you will write and test code (specifically, the `sample` method in the `DecoderRNN` class) that uses your RNN decoder to generate captions.  That code will prove incredibly useful here. \n",
    "\n",
    "If you decide to validate your model, please do not edit the data loader in **data_loader.py**.  Instead, create a new file named **data_loader_val.py** containing the code for obtaining the data loader for the validation data.  You can access:\n",
    "- the validation images at filepath `'/opt/cocoapi/images/train2014/'`, and\n",
    "- the validation image caption annotation file at filepath `'/opt/cocoapi/annotations/captions_val2014.json'`.\n",
    "\n",
    "The suggested approach to validating your model involves creating a json file such as [this one](https://github.com/cocodataset/cocoapi/blob/master/results/captions_val2014_fakecap_results.json) containing your model's predicted captions for the validation images.  Then, you can write your own script or use one that you [find online](https://github.com/tylin/coco-caption) to calculate the BLEU score of your model.  You can read more about the BLEU score, along with other evaluation metrics (such as TEOR and Cider) in section 4.1 of [this paper](https://arxiv.org/pdf/1411.4555.pdf).  For more information about how to use the annotation file, check out the [website](http://cocodataset.org/#download) for the COCO dataset."
   ]
  },
  {
   "cell_type": "code",
   "execution_count": 22,
   "metadata": {},
   "outputs": [],
   "source": [
    "import torch\n",
    "import torch.nn as nn\n",
    "from torchvision import transforms\n",
    "import sys\n",
    "sys.path.append('/opt/cocoapi/PythonAPI')\n",
    "from pycocotools.coco import COCO\n",
    "# import val_data_loader\n",
    "from val_data_loader import val_get_loader\n",
    "from model import EncoderCNN, DecoderRNN\n",
    "import math\n",
    "import os\n",
    "import torch.utils.data as data\n",
    "import numpy as np\n",
    "import matplotlib.pyplot as plt\n",
    "%matplotlib inline"
   ]
  },
  {
   "cell_type": "code",
   "execution_count": 2,
   "metadata": {},
   "outputs": [],
   "source": [
    "import torch\n",
    "device = torch.device(\"cuda\" if torch.cuda.is_available() else \"cpu\")"
   ]
  },
  {
   "cell_type": "code",
   "execution_count": 3,
   "metadata": {},
   "outputs": [],
   "source": [
    "def clean_sentence(output):\n",
    "    i = 1\n",
    "    sentence = ''\n",
    "    while (i< len(output) and output[i] not in [0,1]): #If the sentence restarts, then stop.\n",
    "        sentence = sentence + ' ' + data_loader.dataset.vocab.idx2word[output[i]]\n",
    "        i += 1\n",
    "    return sentence"
   ]
  },
  {
   "cell_type": "code",
   "execution_count": 8,
   "metadata": {},
   "outputs": [],
   "source": [
    "batch_size = 16          # batch size\n",
    "vocab_from_file = True    # if True, load existing vocab file\n",
    "log_file = 'validation_log.txt'       # name of file with saved training loss and perplexity"
   ]
  },
  {
   "cell_type": "code",
   "execution_count": 9,
   "metadata": {},
   "outputs": [
    {
     "name": "stdout",
     "output_type": "stream",
     "text": [
      "val\n",
      "Vocabulary successfully loaded from vocab.pkl file!\n",
      "loading annotations into memory...\n"
     ]
    },
    {
     "name": "stderr",
     "output_type": "stream",
     "text": [
      "  0%|          | 889/202654 [00:00<00:22, 8888.65it/s]"
     ]
    },
    {
     "name": "stdout",
     "output_type": "stream",
     "text": [
      "Done (t=0.26s)\n",
      "creating index...\n",
      "index created!\n",
      "Obtaining caption lengths...\n"
     ]
    },
    {
     "name": "stderr",
     "output_type": "stream",
     "text": [
      "100%|██████████| 202654/202654 [00:19<00:00, 10622.63it/s]\n"
     ]
    }
   ],
   "source": [
    "transform_train = transforms.Compose([ \n",
    "    transforms.Resize(256),                          # smaller edge of image resized to 256\n",
    "    transforms.RandomCrop(224),                      # get 224x224 crop from random location\n",
    "    transforms.RandomHorizontalFlip(),               # horizontally flip image with probability=0.5\n",
    "    transforms.ToTensor(),                           # convert the PIL Image to a tensor\n",
    "    transforms.Normalize((0.485, 0.456, 0.406),      # normalize image for pre-trained model\n",
    "                         (0.229, 0.224, 0.225))])\n",
    "\n",
    "data_loader = val_get_loader(transform=transform_train,\n",
    "                         mode='val',\n",
    "                         batch_size=batch_size,\n",
    "                         vocab_threshold=vocab_threshold,\n",
    "                         cocoapi_loc='/data/datasets', #comment this out if not running locally.\n",
    "                         vocab_from_file=vocab_from_file)"
   ]
  },
  {
   "cell_type": "code",
   "execution_count": 11,
   "metadata": {},
   "outputs": [],
   "source": [
    "indices = data_loader.dataset.get_train_indices()\n",
    "new_sampler = data.sampler.SubsetRandomSampler(indices=indices)\n",
    "data_loader.batch_sampler.sampler = new_sampler"
   ]
  },
  {
   "cell_type": "code",
   "execution_count": 30,
   "metadata": {},
   "outputs": [
    {
     "data": {
      "text/plain": [
       "202654"
      ]
     },
     "execution_count": 30,
     "metadata": {},
     "output_type": "execute_result"
    }
   ],
   "source": [
    "len( data_loader.dataset.caption_lengths )"
   ]
  },
  {
   "cell_type": "code",
   "execution_count": 23,
   "metadata": {},
   "outputs": [
    {
     "name": "stdout",
     "output_type": "stream",
     "text": [
      "entered val/train mode. mode= val\n",
      "entered val/train mode. mode= val\n",
      "entered val/train mode. mode= val\n",
      "entered val/train mode. mode= val\n",
      "entered val/train mode. mode= val\n",
      "entered val/train mode. mode= val\n",
      "entered val/train mode. mode= val\n",
      "entered val/train mode. mode= val\n",
      "entered val/train mode. mode= val\n",
      "entered val/train mode. mode= val\n",
      "entered val/train mode. mode= val\n",
      "entered val/train mode. mode= val\n",
      "entered val/train mode. mode= val\n",
      "entered val/train mode. mode= val\n",
      "entered val/train mode. mode= val\n",
      "entered val/train mode. mode= val\n"
     ]
    }
   ],
   "source": [
    "# Obtain sample image before and after pre-processing.\n",
    "images, captions = next(iter(data_loader))"
   ]
  },
  {
   "cell_type": "code",
   "execution_count": 19,
   "metadata": {},
   "outputs": [
    {
     "name": "stdout",
     "output_type": "stream",
     "text": [
      "images.shape: torch.Size([16, 3, 224, 224])\n",
      "captions.shape: torch.Size([16, 12])\n"
     ]
    }
   ],
   "source": [
    "print('images.shape:', images.shape)\n",
    "print('captions.shape:', captions.shape)"
   ]
  },
  {
   "cell_type": "code",
   "execution_count": 21,
   "metadata": {},
   "outputs": [
    {
     "name": "stdout",
     "output_type": "stream",
     "text": [
      " a school bus waits in traffic behind a car .\n",
      " a man riding on the back of a motorcycle .\n",
      " a woman holding a container filled with fresh vegetables .\n",
      " a small boy with a toothbrush laying on a couch\n",
      " a floor lamp turned on in a dark room .\n",
      " a variety of craft supplies set on a table .\n",
      " a bunch of birds that are sitting on steps .\n",
      " several women wearing <unk> clothing standing behind a dog .\n",
      " a picture loaded with much wonderful sustenance on table .\n",
      " a white oven a sink a dishwasher and a microwave\n",
      " a giraffe in a field with trees in the background\n",
      " a very cute cat laying by a big bike .\n"
     ]
    }
   ],
   "source": [
    "npcap=captions.cpu().numpy()\n",
    "for i in range(captions.shape[1]):\n",
    "    print(clean_sentence(npcap[i,:]))"
   ]
  },
  {
   "cell_type": "code",
   "execution_count": 31,
   "metadata": {},
   "outputs": [],
   "source": [
    "# # Visualize sample image, before pre-processing.\n",
    "# plt.imshow(np.squeeze(images[0]))\n",
    "# plt.show()"
   ]
  },
  {
   "cell_type": "code",
   "execution_count": null,
   "metadata": {},
   "outputs": [],
   "source": [
    "# # Watch for any changes in model.py, and re-load it automatically.\n",
    "# % load_ext autoreload\n",
    "# % autoreload 2\n",
    "\n",
    "# import os\n",
    "# import torch\n",
    "# from model import EncoderCNN, DecoderRNN\n",
    "\n",
    "# models_dirname = 'drop{p}_b512_lr0.001_hidden256'.format(p=drop_ratio)\n",
    "# encoder_file = os.path.join(models_dirname, 'encoder-epoch{N}.pkl'.format(N=num_epochs))\n",
    "# decoder_file = os.path.join(models_dirname, 'decoder-epoch{N}.pkl'.format(N=num_epochs))\n",
    "\n",
    "# # # TODO #3: Select appropriate values for the Python variables below.\n",
    "# # embed_size = 300\n",
    "# # hidden_size = 256 # sync this up with values above. \n",
    "\n",
    "# # The size of the vocabulary.\n",
    "# vocab_size = len(data_loader.dataset.vocab)\n",
    "\n",
    "# # Initialize the encoder and decoder, and set each to inference mode.\n",
    "# encoder = EncoderCNN(embed_size)\n",
    "# encoder.eval()\n",
    "# decoder = DecoderRNN(embed_size, hidden_size, vocab_size, num_layers=num_layers, drop_ratio=0.05)\n",
    "# decoder.eval()\n",
    "\n",
    "# # Load the trained weights.\n",
    "# encoder.load_state_dict(torch.load(os.path.join('./models', encoder_file)))\n",
    "# decoder.load_state_dict(torch.load(os.path.join('./models', decoder_file)))\n",
    "\n",
    "# # Move models to GPU if CUDA is available.\n",
    "# encoder.to(device)\n",
    "# decoder.to(device)"
   ]
  },
  {
   "cell_type": "code",
   "execution_count": 32,
   "metadata": {},
   "outputs": [],
   "source": [
    "# image = image.to(device)\n",
    "# features = encoder(image).unsqueeze(1)\n",
    "# output = decoder.sample(features)\n",
    "# sentence = clean_sentence(output)\n",
    "# print('example sentence:', sentence)\n",
    "# assert type(sentence)==str, 'Sentence needs to be a Python string!'"
   ]
  },
  {
   "cell_type": "code",
   "execution_count": null,
   "metadata": {},
   "outputs": [],
   "source": [
    "#Find the reference captions from the annotations file"
   ]
  },
  {
   "cell_type": "code",
   "execution_count": null,
   "metadata": {},
   "outputs": [],
   "source": [
    "# BLEU score computation"
   ]
  },
  {
   "cell_type": "code",
   "execution_count": null,
   "metadata": {},
   "outputs": [],
   "source": [
    "# loop over the validation set\n",
    "# num_valid = len(data_loader.dataset.caption_lengths)\n",
    "# for i in range(num_valid):"
   ]
  }
 ],
 "metadata": {
  "anaconda-cloud": {},
  "kernelspec": {
   "display_name": "Python 3",
   "language": "python",
   "name": "python3"
  },
  "language_info": {
   "codemirror_mode": {
    "name": "ipython",
    "version": 3
   },
   "file_extension": ".py",
   "mimetype": "text/x-python",
   "name": "python",
   "nbconvert_exporter": "python",
   "pygments_lexer": "ipython3",
   "version": "3.6.5"
  }
 },
 "nbformat": 4,
 "nbformat_minor": 2
}
