{
 "cells": [
  {
   "cell_type": "markdown",
   "metadata": {},
   "source": [
    "## Define the Convolutional Neural Network\n",
    "\n",
    "After you've looked at the data you're working with and, in this case, know the shapes of the images and of the keypoints, you are ready to define a convolutional neural network that can *learn* from this data.\n",
    "\n",
    "In this notebook and in `models.py`, you will:\n",
    "1. Define a CNN with images as input and keypoints as output\n",
    "2. Construct the transformed FaceKeypointsDataset, just as before\n",
    "3. Train the CNN on the training data, tracking loss\n",
    "4. See how the trained model performs on test data\n",
    "5. If necessary, modify the CNN structure and model hyperparameters, so that it performs *well* **\\***\n",
    "\n",
    "**\\*** What does *well* mean?\n",
    "\n",
    "\"Well\" means that the model's loss decreases during training **and**, when applied to test image data, the model produces keypoints that closely match the true keypoints of each face. And you'll see examples of this later in the notebook.\n",
    "\n",
    "---\n"
   ]
  },
  {
   "cell_type": "markdown",
   "metadata": {},
   "source": [
    "## CNN Architecture\n",
    "\n",
    "Recall that CNN's are defined by a few types of layers:\n",
    "* Convolutional layers\n",
    "* Maxpooling layers\n",
    "* Fully-connected layers\n",
    "\n",
    "You are required to use the above layers and encouraged to add multiple convolutional layers and things like dropout layers that may prevent overfitting. You are also encouraged to look at literature on keypoint detection, such as [this paper](https://arxiv.org/pdf/1710.00977.pdf), to help you determine the structure of your network.\n",
    "\n",
    "\n",
    "### TODO: Define your model in the provided file `models.py` file\n",
    "\n",
    "This file is mostly empty but contains the expected name and some TODO's for creating your model.\n",
    "\n",
    "---"
   ]
  },
  {
   "cell_type": "markdown",
   "metadata": {},
   "source": [
    "## PyTorch Neural Nets\n",
    "\n",
    "To define a neural network in PyTorch, you define the layers of a model in the function `__init__` and define the feedforward behavior of a network that employs those initialized layers in the function `forward`, which takes in an input image tensor, `x`. The structure of this Net class is shown below and left for you to fill in.\n",
    "\n",
    "Note: During training, PyTorch will be able to perform backpropagation by keeping track of the network's feedforward behavior and using autograd to calculate the update to the weights in the network.\n",
    "\n",
    "#### Define the Layers in ` __init__`\n",
    "As a reminder, a conv/pool layer may be defined like this (in `__init__`):\n",
    "```\n",
    "# 1 input image channel (for grayscale images), 32 output channels/feature maps, 3x3 square convolution kernel\n",
    "self.conv1 = nn.Conv2d(1, 32, 3)\n",
    "\n",
    "# maxpool that uses a square window of kernel_size=2, stride=2\n",
    "self.pool = nn.MaxPool2d(2, 2)      \n",
    "```\n",
    "\n",
    "#### Refer to Layers in `forward`\n",
    "Then referred to in the `forward` function like this, in which the conv1 layer has a ReLu activation applied to it before maxpooling is applied:\n",
    "```\n",
    "x = self.pool(F.relu(self.conv1(x)))\n",
    "```\n",
    "\n",
    "Best practice is to place any layers whose weights will change during the training process in `__init__` and refer to them in the `forward` function; any layers or functions that always behave in the same way, such as a pre-defined activation function, should appear *only* in the `forward` function."
   ]
  },
  {
   "cell_type": "markdown",
   "metadata": {},
   "source": [
    "#### Why models.py\n",
    "\n",
    "You are tasked with defining the network in the `models.py` file so that any models you define can be saved and loaded by name in different notebooks in this project directory. For example, by defining a CNN class called `Net` in `models.py`, you can then create that same architecture in this and other notebooks by simply importing the class and instantiating a model:\n",
    "```\n",
    "    from models import Net\n",
    "    net = Net()\n",
    "```"
   ]
  },
  {
   "cell_type": "code",
   "execution_count": 1,
   "metadata": {},
   "outputs": [],
   "source": [
    "# # load the data if you need to; if you have already loaded the data, you may comment this cell out\n",
    "# # -- DO NOT CHANGE THIS CELL -- #\n",
    "# !mkdir /data\n",
    "# !wget -P /data/ https://s3.amazonaws.com/video.udacity-data.com/topher/2018/May/5aea1b91_train-test-data/train-test-data.zip\n",
    "# !unzip -n /data/train-test-data.zip -d /data"
   ]
  },
  {
   "cell_type": "markdown",
   "metadata": {},
   "source": [
    "<div class=\"alert alert-info\">**Note:** Workspaces automatically close connections after 30 minutes of inactivity (including inactivity while training!). Use the code snippet below to keep your workspace alive during training. (The active_session context manager is imported below.)\n",
    "</div>\n",
    "```\n",
    "from workspace_utils import active_session\n",
    "\n",
    "with active_session():\n",
    "    train_model(num_epochs)\n",
    "```\n"
   ]
  },
  {
   "cell_type": "code",
   "execution_count": 2,
   "metadata": {},
   "outputs": [],
   "source": [
    "# import the usual resources\n",
    "import matplotlib.pyplot as plt\n",
    "import numpy as np\n",
    "\n",
    "# import utilities to keep workspaces alive during model training\n",
    "from workspace_utils import active_session\n",
    "\n",
    "# watch for any changes in model.py, if it changes, re-load it automatically\n",
    "%load_ext autoreload\n",
    "%autoreload 2"
   ]
  },
  {
   "cell_type": "code",
   "execution_count": 3,
   "metadata": {},
   "outputs": [
    {
     "name": "stdout",
     "output_type": "stream",
     "text": [
      "Net(\n",
      "  (conv1): Conv2d(1, 32, kernel_size=(5, 5), stride=(1, 1))\n",
      "  (conv1_bn): BatchNorm2d(32, eps=1e-05, momentum=0.1, affine=True, track_running_stats=True)\n",
      "  (pool): MaxPool2d(kernel_size=2, stride=2, padding=0, dilation=1, ceil_mode=False)\n",
      "  (conv2): Conv2d(32, 64, kernel_size=(5, 5), stride=(2, 2))\n",
      "  (conv2_bn): BatchNorm2d(64, eps=1e-05, momentum=0.1, affine=True, track_running_stats=True)\n",
      "  (conv3): Conv2d(64, 128, kernel_size=(3, 3), stride=(1, 1))\n",
      "  (conv3_bn): BatchNorm2d(128, eps=1e-05, momentum=0.1, affine=True, track_running_stats=True)\n",
      "  (conv4): Conv2d(128, 256, kernel_size=(5, 5), stride=(2, 2))\n",
      "  (conv4_bn): BatchNorm2d(256, eps=1e-05, momentum=0.1, affine=True, track_running_stats=True)\n",
      "  (fc1): Linear(in_features=1024, out_features=512, bias=True)\n",
      "  (drop_layer): Dropout(p=0.2)\n",
      "  (fc2): Linear(in_features=512, out_features=256, bias=True)\n",
      "  (fc3): Linear(in_features=256, out_features=136, bias=True)\n",
      ")\n"
     ]
    },
    {
     "name": "stderr",
     "output_type": "stream",
     "text": [
      "/home/thojo/work/ud/vision/facial_keypoint_detection/models.py:25: UserWarning: nn.init.kaiming_normal is now deprecated in favor of nn.init.kaiming_normal_.\n",
      "  I.kaiming_normal(self.conv1.weight)\n",
      "/home/thojo/work/ud/vision/facial_keypoint_detection/models.py:34: UserWarning: nn.init.kaiming_normal is now deprecated in favor of nn.init.kaiming_normal_.\n",
      "  I.kaiming_normal(self.conv2.weight)\n",
      "/home/thojo/work/ud/vision/facial_keypoint_detection/models.py:38: UserWarning: nn.init.kaiming_normal is now deprecated in favor of nn.init.kaiming_normal_.\n",
      "  I.kaiming_normal(self.conv3.weight)\n",
      "/home/thojo/work/ud/vision/facial_keypoint_detection/models.py:41: UserWarning: nn.init.kaiming_normal is now deprecated in favor of nn.init.kaiming_normal_.\n",
      "  I.kaiming_normal(self.conv4.weight)\n",
      "/home/thojo/work/ud/vision/facial_keypoint_detection/models.py:44: UserWarning: nn.init.kaiming_normal is now deprecated in favor of nn.init.kaiming_normal_.\n",
      "  I.kaiming_normal(self.fc1.weight)\n",
      "/home/thojo/work/ud/vision/facial_keypoint_detection/models.py:49: UserWarning: nn.init.kaiming_normal is now deprecated in favor of nn.init.kaiming_normal_.\n",
      "  I.kaiming_normal(self.fc2.weight)\n",
      "/home/thojo/work/ud/vision/facial_keypoint_detection/models.py:51: UserWarning: nn.init.kaiming_normal is now deprecated in favor of nn.init.kaiming_normal_.\n",
      "  I.kaiming_normal(self.fc3.weight)\n"
     ]
    }
   ],
   "source": [
    "## TODO: Define the Net in models.py\n",
    "\n",
    "import torch\n",
    "import torch.nn as nn\n",
    "import torch.nn.functional as F\n",
    "\n",
    "## TODO: Once you've define the network, you can instantiate it\n",
    "# one example conv layer has been provided for you\n",
    "from models import Net\n",
    "\n",
    "net = Net()\n",
    "print(net)"
   ]
  },
  {
   "cell_type": "markdown",
   "metadata": {
    "collapsed": true
   },
   "source": [
    "## Transform the dataset \n",
    "\n",
    "To prepare for training, create a transformed dataset of images and keypoints.\n",
    "\n",
    "### TODO: Define a data transform\n",
    "\n",
    "In PyTorch, a convolutional neural network expects a torch image of a consistent size as input. For efficient training, and so your model's loss does not blow up during training, it is also suggested that you normalize the input images and keypoints. The necessary transforms have been defined in `data_load.py` and you **do not** need to modify these; take a look at this file (you'll see the same transforms that were defined and applied in Notebook 1).\n",
    "\n",
    "To define the data transform below, use a [composition](http://pytorch.org/tutorials/beginner/data_loading_tutorial.html#compose-transforms) of:\n",
    "1. Rescaling and/or cropping the data, such that you are left with a square image (the suggested size is 224x224px)\n",
    "2. Normalizing the images and keypoints; turning each RGB image into a grayscale image with a color range of [0, 1] and transforming the given keypoints into a range of [-1, 1]\n",
    "3. Turning these images and keypoints into Tensors\n",
    "\n",
    "These transformations have been defined in `data_load.py`, but it's up to you to call them and create a `data_transform` below. **This transform will be applied to the training data and, later, the test data**. It will change how you go about displaying these images and keypoints, but these steps are essential for efficient training.\n",
    "\n",
    "As a note, should you want to perform data augmentation (which is optional in this project), and randomly rotate or shift these images, a square image size will be useful; rotating a 224x224 image by 90 degrees will result in the same shape of output."
   ]
  },
  {
   "cell_type": "code",
   "execution_count": 4,
   "metadata": {},
   "outputs": [],
   "source": [
    "from torch.utils.data import Dataset, DataLoader\n",
    "from torchvision import transforms, utils\n",
    "\n",
    "# the dataset we created in Notebook 1 is copied in the helper file `data_load.py`\n",
    "from data_load import FacialKeypointsDataset\n",
    "# the transforms we defined in Notebook 1 are in the helper file `data_load.py`\n",
    "from data_load import Rescale, RandomCrop, Normalize, ToTensor\n",
    "\n",
    "\n",
    "## TODO: define the data_transform using transforms.Compose([all tx's, . , .])\n",
    "# order matters! i.e. rescaling should come before a smaller crop\n",
    "data_transform = transforms.Compose([Rescale(250),\n",
    "                                     RandomCrop(224),\n",
    "                                     Normalize(),\n",
    "                                     ToTensor()])\n",
    "\n",
    "transformed_dataset = FacialKeypointsDataset(csv_file='/data/training_frames_keypoints.csv',\n",
    "                                             root_dir='/data/training/',\n",
    "                                             transform=data_transform)\n",
    "\n",
    "# testing that you've defined a transform\n",
    "assert(data_transform is not None), 'Define a data_transform'"
   ]
  },
  {
   "cell_type": "code",
   "execution_count": 5,
   "metadata": {},
   "outputs": [
    {
     "name": "stdout",
     "output_type": "stream",
     "text": [
      "Number of images:  3462\n",
      "0 torch.Size([1, 224, 224]) torch.Size([68, 2])\n",
      "1 torch.Size([1, 224, 224]) torch.Size([68, 2])\n",
      "2 torch.Size([1, 224, 224]) torch.Size([68, 2])\n",
      "3 torch.Size([1, 224, 224]) torch.Size([68, 2])\n"
     ]
    },
    {
     "name": "stderr",
     "output_type": "stream",
     "text": [
      "/home/thojo/work/ud/vision/facial_keypoint_detection/data_load.py:39: FutureWarning: Method .as_matrix will be removed in a future version. Use .values instead.\n",
      "  key_pts = self.key_pts_frame.iloc[idx, 1:].as_matrix()\n"
     ]
    }
   ],
   "source": [
    "# create the transformed dataset\n",
    "transformed_dataset = FacialKeypointsDataset(csv_file='/data/training_frames_keypoints.csv',\n",
    "                                             root_dir='/data/training/',\n",
    "                                             transform=data_transform)\n",
    "\n",
    "\n",
    "print('Number of images: ', len(transformed_dataset))\n",
    "\n",
    "# iterate through the transformed dataset and print some stats about the first few samples\n",
    "for i in range(4):\n",
    "    sample = transformed_dataset[i]\n",
    "    print(i, sample['image'].size(), sample['keypoints'].size())"
   ]
  },
  {
   "cell_type": "markdown",
   "metadata": {},
   "source": [
    "## Batching and loading data\n",
    "\n",
    "Next, having defined the transformed dataset, we can use PyTorch's DataLoader class to load the training data in batches of whatever size as well as to shuffle the data for training the model. You can read more about the parameters of the DataLoader, in [this documentation](http://pytorch.org/docs/master/data.html).\n",
    "\n",
    "#### Batch size\n",
    "Decide on a good batch size for training your model. Try both small and large batch sizes and note how the loss decreases as the model trains. Too large a batch size may cause your model to crash and/or run out of memory while training.\n",
    "\n",
    "**Note for Windows users**: Please change the `num_workers` to 0 or you may face some issues with your DataLoader failing."
   ]
  },
  {
   "cell_type": "code",
   "execution_count": 6,
   "metadata": {},
   "outputs": [],
   "source": [
    "# load training data in batches\n",
    "batch_size = 8\n",
    "\n",
    "train_loader = DataLoader(transformed_dataset, \n",
    "                          batch_size=batch_size,\n",
    "                          shuffle=True, \n",
    "                          num_workers=0)\n"
   ]
  },
  {
   "cell_type": "markdown",
   "metadata": {},
   "source": [
    "## Before training\n",
    "\n",
    "Take a look at how this model performs before it trains. You should see that the keypoints it predicts start off in one spot and don't match the keypoints on a face at all! It's interesting to visualize this behavior so that you can compare it to the model after training and see how the model has improved.\n",
    "\n",
    "#### Load in the test dataset\n",
    "\n",
    "The test dataset is one that this model has *not* seen before, meaning it has not trained with these images. We'll load in this test data and before and after training, see how your model performs on this set!\n",
    "\n",
    "To visualize this test data, we have to go through some un-transformation steps to turn our images into python images from tensors and to turn our keypoints back into a recognizable range. "
   ]
  },
  {
   "cell_type": "code",
   "execution_count": 7,
   "metadata": {},
   "outputs": [],
   "source": [
    "# load in the test data, using the dataset class\n",
    "# AND apply the data_transform you defined above\n",
    "\n",
    "# create the test dataset\n",
    "test_dataset = FacialKeypointsDataset(csv_file='/data/test_frames_keypoints.csv',\n",
    "                                             root_dir='/data/test/',\n",
    "                                             transform=data_transform)\n",
    "\n"
   ]
  },
  {
   "cell_type": "code",
   "execution_count": 8,
   "metadata": {},
   "outputs": [],
   "source": [
    "# load test data in batches\n",
    "batch_size = 10\n",
    "\n",
    "test_loader = DataLoader(test_dataset, \n",
    "                          batch_size=batch_size,\n",
    "                          shuffle=True, \n",
    "                          num_workers=0)"
   ]
  },
  {
   "cell_type": "markdown",
   "metadata": {},
   "source": [
    "## Apply the model on a test sample\n",
    "\n",
    "To test the model on a test sample of data, you have to follow these steps:\n",
    "1. Extract the image and ground truth keypoints from a sample\n",
    "2. Wrap the image in a Variable, so that the net can process it as input and track how it changes as the image moves through the network.\n",
    "3. Make sure the image is a FloatTensor, which the model expects.\n",
    "4. Forward pass the image through the net to get the predicted, output keypoints.\n",
    "\n",
    "This function test how the network performs on the first batch of test data. It returns the images, the transformed images, the predicted keypoints (produced by the model), and the ground truth keypoints."
   ]
  },
  {
   "cell_type": "code",
   "execution_count": 9,
   "metadata": {},
   "outputs": [],
   "source": [
    "# test the model on a batch of test images\n",
    "\n",
    "def net_sample_output():\n",
    "    \n",
    "    # iterate through the test dataset\n",
    "    for i, sample in enumerate(test_loader):\n",
    "        \n",
    "        # get sample data: images and ground truth keypoints\n",
    "        images = sample['image']\n",
    "        key_pts = sample['keypoints']\n",
    "\n",
    "        # convert images to FloatTensors\n",
    "        images = images.type(torch.FloatTensor)\n",
    "\n",
    "        # forward pass to get net output\n",
    "        output_pts = net(images)\n",
    "        \n",
    "        # reshape to batch_size x 68 x 2 pts\n",
    "        output_pts = output_pts.view(output_pts.size()[0], 68, -1)\n",
    "        \n",
    "        # break after first image is tested\n",
    "        if i == 0:\n",
    "            return images, output_pts, key_pts\n",
    "            "
   ]
  },
  {
   "cell_type": "markdown",
   "metadata": {},
   "source": [
    "#### Debugging tips\n",
    "\n",
    "If you get a size or dimension error here, make sure that your network outputs the expected number of keypoints! Or if you get a Tensor type error, look into changing the above code that casts the data into float types: `images = images.type(torch.FloatTensor)`."
   ]
  },
  {
   "cell_type": "code",
   "execution_count": 10,
   "metadata": {},
   "outputs": [
    {
     "name": "stderr",
     "output_type": "stream",
     "text": [
      "/home/thojo/work/ud/vision/facial_keypoint_detection/data_load.py:39: FutureWarning: Method .as_matrix will be removed in a future version. Use .values instead.\n",
      "  key_pts = self.key_pts_frame.iloc[idx, 1:].as_matrix()\n"
     ]
    },
    {
     "name": "stdout",
     "output_type": "stream",
     "text": [
      "torch.Size([10, 1, 224, 224])\n",
      "torch.Size([10, 68, 2])\n",
      "torch.Size([10, 68, 2])\n"
     ]
    }
   ],
   "source": [
    "# call the above function\n",
    "# returns: test images, test predicted keypoints, test ground truth keypoints\n",
    "test_images, test_outputs, gt_pts = net_sample_output()\n",
    "\n",
    "# print out the dimensions of the data to see if they make sense\n",
    "print(test_images.data.size())\n",
    "print(test_outputs.data.size())\n",
    "print(gt_pts.size())"
   ]
  },
  {
   "cell_type": "code",
   "execution_count": 11,
   "metadata": {},
   "outputs": [
    {
     "data": {
      "text/plain": [
       "torch.Size([10, 68, 2])"
      ]
     },
     "execution_count": 11,
     "metadata": {},
     "output_type": "execute_result"
    }
   ],
   "source": [
    "test_outputs.size()"
   ]
  },
  {
   "cell_type": "markdown",
   "metadata": {},
   "source": [
    "## Visualize the predicted keypoints\n",
    "\n",
    "Once we've had the model produce some predicted output keypoints, we can visualize these points in a way that's similar to how we've displayed this data before, only this time, we have to \"un-transform\" the image/keypoint data to display it.\n",
    "\n",
    "Note that I've defined a *new* function, `show_all_keypoints` that displays a grayscale image, its predicted keypoints and its ground truth keypoints (if provided)."
   ]
  },
  {
   "cell_type": "code",
   "execution_count": 12,
   "metadata": {},
   "outputs": [],
   "source": [
    "def show_all_keypoints(image, predicted_key_pts, gt_pts=None):\n",
    "    \"\"\"Show image with predicted keypoints\"\"\"\n",
    "    # image is grayscale\n",
    "    plt.imshow(image, cmap='gray')\n",
    "    plt.scatter(predicted_key_pts[:, 0], predicted_key_pts[:, 1], s=20, marker='.', c='m')\n",
    "    # plot ground truth points as green pts\n",
    "    if gt_pts is not None:\n",
    "        plt.scatter(gt_pts[:, 0], gt_pts[:, 1], s=20, marker='.', c='g')\n"
   ]
  },
  {
   "cell_type": "markdown",
   "metadata": {},
   "source": [
    "#### Un-transformation\n",
    "\n",
    "Next, you'll see a helper function. `visualize_output` that takes in a batch of images, predicted keypoints, and ground truth keypoints and displays a set of those images and their true/predicted keypoints.\n",
    "\n",
    "This function's main role is to take batches of image and keypoint data (the input and output of your CNN), and transform them into numpy images and un-normalized keypoints (x, y) for normal display. The un-transformation process turns keypoints and images into numpy arrays from Tensors *and* it undoes the keypoint normalization done in the Normalize() transform; it's assumed that you applied these transformations when you loaded your test data."
   ]
  },
  {
   "cell_type": "code",
   "execution_count": 13,
   "metadata": {},
   "outputs": [
    {
     "data": {
      "image/png": "[encoded data removed]",
      "text/plain": [
       "<Figure size 1440x720 with 1 Axes>"
      ]
     },
     "metadata": {},
     "output_type": "display_data"
    },
    {
     "data": {
      "image/png": "[encoded data removed]",
      "text/plain": [
       "<Figure size 1440x720 with 1 Axes>"
      ]
     },
     "metadata": {},
     "output_type": "display_data"
    },
    {
     "data": {
      "image/png": "[encoded data removed]",
      "text/plain": [
       "<Figure size 1440x720 with 1 Axes>"
      ]
     },
     "metadata": {},
     "output_type": "display_data"
    },
    {
     "data": {
      "image/png": "[encoded data removed]",
      "text/plain": [
       "<Figure size 1440x720 with 1 Axes>"
      ]
     },
     "metadata": {},
     "output_type": "display_data"
    },
    {
     "data": {
      "image/png": "[encoded data removed]",
      "text/plain": [
       "<Figure size 1440x720 with 1 Axes>"
      ]
     },
     "metadata": {},
     "output_type": "display_data"
    },
    {
     "data": {
      "image/png": "[encoded data removed]",
      "text/plain": [
       "<Figure size 1440x720 with 1 Axes>"
      ]
     },
     "metadata": {},
     "output_type": "display_data"
    },
    {
     "data": {
      "image/png": "[encoded data removed]",
      "text/plain": [
       "<Figure size 1440x720 with 1 Axes>"
      ]
     },
     "metadata": {},
     "output_type": "display_data"
    },
    {
     "data": {
      "image/png": "[encoded data removed]",
      "text/plain": [
       "<Figure size 1440x720 with 1 Axes>"
      ]
     },
     "metadata": {},
     "output_type": "display_data"
    },
    {
     "data": {
      "image/png": "[encoded data removed]",
      "text/plain": [
       "<Figure size 1440x720 with 1 Axes>"
      ]
     },
     "metadata": {},
     "output_type": "display_data"
    },
    {
     "data": {
      "image/png": "[encoded data removed]",
      "text/plain": [
       "<Figure size 1440x720 with 1 Axes>"
      ]
     },
     "metadata": {},
     "output_type": "display_data"
    }
   ],
   "source": [
    "# visualize the output\n",
    "# by default this shows a batch of 10 images\n",
    "def visualize_output(test_images, test_outputs, gt_pts=None, batch_size=10):\n",
    "\n",
    "    for i in range(batch_size):\n",
    "        plt.figure(figsize=(20,10))\n",
    "        ax = plt.subplot(1, batch_size, i+1)\n",
    "\n",
    "        # un-transform the image data\n",
    "        image = test_images[i].data   # get the image from it's Variable wrapper\n",
    "        image = image.numpy()   # convert to numpy array from a Tensor\n",
    "        image = np.transpose(image, (1, 2, 0))   # transpose to go from torch to numpy image\n",
    "\n",
    "        # un-transform the predicted key_pts data\n",
    "        predicted_key_pts = test_outputs[i].data\n",
    "        predicted_key_pts = predicted_key_pts.numpy()\n",
    "        # undo normalization of keypoints  \n",
    "        predicted_key_pts = predicted_key_pts*50.0+100\n",
    "        \n",
    "        # plot ground truth points for comparison, if they exist\n",
    "        ground_truth_pts = None\n",
    "        if gt_pts is not None:\n",
    "            ground_truth_pts = gt_pts[i]         \n",
    "            ground_truth_pts = ground_truth_pts*50.0+100\n",
    "        \n",
    "        # call show_all_keypoints\n",
    "        show_all_keypoints(np.squeeze(image), predicted_key_pts, ground_truth_pts)\n",
    "            \n",
    "        plt.axis('off')\n",
    "\n",
    "    plt.show()\n",
    "    \n",
    "# call it\n",
    "visualize_output(test_images, test_outputs, gt_pts)"
   ]
  },
  {
   "cell_type": "markdown",
   "metadata": {},
   "source": [
    "## Training\n",
    "\n",
    "#### Loss function\n",
    "Training a network to predict keypoints is different than training a network to predict a class; instead of outputting a distribution of classes and using cross entropy loss, you may want to choose a loss function that is suited for regression, which directly compares a predicted value and target value. Read about the various kinds of loss functions (like MSE or L1/SmoothL1 loss) in [this documentation](http://pytorch.org/docs/master/_modules/torch/nn/modules/loss.html).\n",
    "\n",
    "### TODO: Define the loss and optimization\n",
    "\n",
    "Next, you'll define how the model will train by deciding on the loss function and optimizer.\n",
    "\n",
    "---"
   ]
  },
  {
   "cell_type": "code",
   "execution_count": 14,
   "metadata": {},
   "outputs": [],
   "source": [
    "## TODO: Define the loss and optimization\n",
    "import torch.optim as optim\n",
    "\n",
    "criterion = nn.MSELoss()\n",
    "\n",
    "# optimizer = optim.SGD(net.parameters(), lr=0.001, momentum=0.9)\n",
    "optimizer = optim.Adam(net.parameters(), lr=0.001)\n"
   ]
  },
  {
   "cell_type": "markdown",
   "metadata": {},
   "source": [
    "## Training and Initial Observation\n",
    "\n",
    "Now, you'll train on your batched training data from `train_loader` for a number of epochs. \n",
    "\n",
    "To quickly observe how your model is training and decide on whether or not you should modify it's structure or hyperparameters, you're encouraged to start off with just one or two epochs at first. As you train, note how your the model's loss behaves over time: does it decrease quickly at first and then slow down? Does it take a while to decrease in the first place? What happens if you change the batch size of your training data or modify your loss function? etc. \n",
    "\n",
    "Use these initial observations to make changes to your model and decide on the best architecture before you train for many epochs and create a final model."
   ]
  },
  {
   "cell_type": "code",
   "execution_count": 15,
   "metadata": {},
   "outputs": [],
   "source": [
    "def train_net(n_epochs):\n",
    "\n",
    "    # prepare the net for training\n",
    "    net.train()\n",
    "\n",
    "    for epoch in range(n_epochs):  # loop over the dataset multiple times\n",
    "        \n",
    "        running_loss = 0.0\n",
    "\n",
    "        # train on batches of data, assumes you already have train_loader\n",
    "        for batch_i, data in enumerate(train_loader):\n",
    "            # get the input images and their corresponding labels\n",
    "            images = data['image']\n",
    "            key_pts = data['keypoints']\n",
    "\n",
    "            # flatten pts\n",
    "            key_pts = key_pts.view(key_pts.size(0), -1)\n",
    "\n",
    "            # convert variables to floats for regression loss\n",
    "            key_pts = key_pts.type(torch.FloatTensor)\n",
    "            images = images.type(torch.FloatTensor)\n",
    "\n",
    "            # forward pass to get outputs\n",
    "            output_pts = net(images)\n",
    "\n",
    "            # calculate the loss between predicted and target keypoints\n",
    "            loss = criterion(output_pts, key_pts)\n",
    "\n",
    "            # zero the parameter (weight) gradients\n",
    "            optimizer.zero_grad()\n",
    "            \n",
    "            # backward pass to calculate the weight gradients\n",
    "            loss.backward()\n",
    "\n",
    "            # update the weights\n",
    "            optimizer.step()\n",
    "\n",
    "            # print loss statistics\n",
    "            running_loss += loss.item()\n",
    "            if batch_i % 10 == 9:    # print every 10 batches\n",
    "                print('Epoch: {}, Batch: {}, Avg. Loss: {}'.format(epoch + 1, batch_i+1, running_loss/10))\n",
    "                running_loss = 0.0\n",
    "\n",
    "    print('Finished Training')\n"
   ]
  },
  {
   "cell_type": "code",
   "execution_count": null,
   "metadata": {},
   "outputs": [
    {
     "name": "stderr",
     "output_type": "stream",
     "text": [
      "/home/thojo/work/ud/vision/facial_keypoint_detection/data_load.py:39: FutureWarning: Method .as_matrix will be removed in a future version. Use .values instead.\n",
      "  key_pts = self.key_pts_frame.iloc[idx, 1:].as_matrix()\n"
     ]
    },
    {
     "name": "stdout",
     "output_type": "stream",
     "text": [
      "Epoch: 1, Batch: 10, Avg. Loss: 0.9304021507501602\n",
      "Epoch: 1, Batch: 20, Avg. Loss: 0.44653855860233305\n",
      "Epoch: 1, Batch: 30, Avg. Loss: 0.297223787009716\n",
      "Epoch: 1, Batch: 40, Avg. Loss: 0.4641831234097481\n",
      "Epoch: 1, Batch: 50, Avg. Loss: 0.27856168895959854\n",
      "Epoch: 1, Batch: 60, Avg. Loss: 0.27941499203443526\n",
      "Epoch: 1, Batch: 70, Avg. Loss: 0.21203953474760057\n",
      "Epoch: 1, Batch: 80, Avg. Loss: 0.255698099732399\n",
      "Epoch: 1, Batch: 90, Avg. Loss: 0.2377152994275093\n",
      "Epoch: 1, Batch: 100, Avg. Loss: 0.23625833094120025\n",
      "Epoch: 1, Batch: 110, Avg. Loss: 0.24573950171470643\n",
      "Epoch: 1, Batch: 120, Avg. Loss: 0.2072665810585022\n",
      "Epoch: 1, Batch: 130, Avg. Loss: 0.21578358709812165\n",
      "Epoch: 1, Batch: 140, Avg. Loss: 0.2370574340224266\n",
      "Epoch: 1, Batch: 150, Avg. Loss: 0.2819849833846092\n",
      "Epoch: 1, Batch: 160, Avg. Loss: 0.2491889014840126\n",
      "Epoch: 1, Batch: 170, Avg. Loss: 0.23136384785175323\n",
      "Epoch: 1, Batch: 180, Avg. Loss: 0.2026732310652733\n",
      "Epoch: 1, Batch: 190, Avg. Loss: 0.16814492717385293\n",
      "Epoch: 1, Batch: 200, Avg. Loss: 0.23056283295154573\n",
      "Epoch: 1, Batch: 210, Avg. Loss: 0.17208779752254486\n",
      "Epoch: 1, Batch: 220, Avg. Loss: 0.22784107849001883\n",
      "Epoch: 1, Batch: 230, Avg. Loss: 0.19497261494398116\n",
      "Epoch: 1, Batch: 240, Avg. Loss: 0.17436137944459915\n",
      "Epoch: 1, Batch: 250, Avg. Loss: 0.19897035211324693\n",
      "Epoch: 1, Batch: 260, Avg. Loss: 0.19327550008893013\n",
      "Epoch: 1, Batch: 270, Avg. Loss: 0.14707975834608078\n",
      "Epoch: 1, Batch: 280, Avg. Loss: 0.16115937530994415\n",
      "Epoch: 1, Batch: 290, Avg. Loss: 0.18936820402741433\n",
      "Epoch: 1, Batch: 300, Avg. Loss: 0.16788510829210282\n",
      "Epoch: 1, Batch: 310, Avg. Loss: 0.1905640110373497\n",
      "Epoch: 1, Batch: 320, Avg. Loss: 0.16998803615570068\n",
      "Epoch: 1, Batch: 330, Avg. Loss: 0.1740289621055126\n",
      "Epoch: 1, Batch: 340, Avg. Loss: 0.1694312684237957\n",
      "Epoch: 1, Batch: 350, Avg. Loss: 0.17544779926538467\n",
      "Epoch: 1, Batch: 360, Avg. Loss: 0.14545806273818015\n",
      "Epoch: 1, Batch: 370, Avg. Loss: 0.16538779214024543\n",
      "Epoch: 1, Batch: 380, Avg. Loss: 0.16348210647702216\n",
      "Epoch: 1, Batch: 390, Avg. Loss: 0.1755022644996643\n",
      "Epoch: 1, Batch: 400, Avg. Loss: 0.1720650874078274\n",
      "Epoch: 1, Batch: 410, Avg. Loss: 0.15115215256810188\n",
      "Epoch: 1, Batch: 420, Avg. Loss: 0.12269220352172852\n",
      "Epoch: 1, Batch: 430, Avg. Loss: 0.15034912452101706\n",
      "Epoch: 2, Batch: 10, Avg. Loss: 0.11301380097866058\n",
      "Epoch: 2, Batch: 20, Avg. Loss: 0.13071194440126419\n",
      "Epoch: 2, Batch: 30, Avg. Loss: 0.1712189018726349\n",
      "Epoch: 2, Batch: 40, Avg. Loss: 0.1305678240954876\n",
      "Epoch: 2, Batch: 50, Avg. Loss: 0.132912477850914\n",
      "Epoch: 2, Batch: 60, Avg. Loss: 0.12537695690989495\n",
      "Epoch: 2, Batch: 70, Avg. Loss: 0.11389682367444039\n",
      "Epoch: 2, Batch: 80, Avg. Loss: 0.15009313821792603\n",
      "Epoch: 2, Batch: 90, Avg. Loss: 0.11607948914170266\n",
      "Epoch: 2, Batch: 100, Avg. Loss: 0.14727660529315473\n",
      "Epoch: 2, Batch: 110, Avg. Loss: 0.15008526742458345\n",
      "Epoch: 2, Batch: 120, Avg. Loss: 0.1933258980512619\n",
      "Epoch: 2, Batch: 130, Avg. Loss: 0.12927404418587685\n",
      "Epoch: 2, Batch: 140, Avg. Loss: 0.11646219082176686\n",
      "Epoch: 2, Batch: 150, Avg. Loss: 0.11564159765839577\n",
      "Epoch: 2, Batch: 160, Avg. Loss: 0.10529490411281586\n",
      "Epoch: 2, Batch: 170, Avg. Loss: 0.11283252313733101\n",
      "Epoch: 2, Batch: 180, Avg. Loss: 0.18091201186180114\n",
      "Epoch: 2, Batch: 190, Avg. Loss: 0.12321472316980361\n",
      "Epoch: 2, Batch: 200, Avg. Loss: 0.126942565664649\n",
      "Epoch: 2, Batch: 210, Avg. Loss: 0.10822357907891274\n",
      "Epoch: 2, Batch: 220, Avg. Loss: 0.22265069410204888\n",
      "Epoch: 2, Batch: 230, Avg. Loss: 0.25385488122701644\n",
      "Epoch: 2, Batch: 240, Avg. Loss: 0.100957814976573\n",
      "Epoch: 2, Batch: 250, Avg. Loss: 0.10271546617150307\n",
      "Epoch: 2, Batch: 260, Avg. Loss: 0.12766998186707496\n",
      "Epoch: 2, Batch: 270, Avg. Loss: 0.09258785694837571\n",
      "Epoch: 2, Batch: 280, Avg. Loss: 0.09229953177273273\n",
      "Epoch: 2, Batch: 290, Avg. Loss: 0.09615752324461938\n",
      "Epoch: 2, Batch: 300, Avg. Loss: 0.10062418580055237\n",
      "Epoch: 2, Batch: 310, Avg. Loss: 0.12848782166838646\n",
      "Epoch: 2, Batch: 320, Avg. Loss: 0.10536742508411408\n",
      "Epoch: 2, Batch: 330, Avg. Loss: 0.14677840024232863\n",
      "Epoch: 2, Batch: 340, Avg. Loss: 0.1368852399289608\n",
      "Epoch: 2, Batch: 350, Avg. Loss: 0.11524161398410797\n",
      "Epoch: 2, Batch: 360, Avg. Loss: 0.09492734596133232\n",
      "Epoch: 2, Batch: 370, Avg. Loss: 0.09113145247101784\n",
      "Epoch: 2, Batch: 380, Avg. Loss: 0.1148257851600647\n",
      "Epoch: 2, Batch: 390, Avg. Loss: 0.0851111937314272\n",
      "Epoch: 2, Batch: 400, Avg. Loss: 0.10227995216846467\n",
      "Epoch: 2, Batch: 410, Avg. Loss: 0.12237798161804676\n",
      "Epoch: 2, Batch: 420, Avg. Loss: 0.10224338881671428\n",
      "Epoch: 2, Batch: 430, Avg. Loss: 0.08253965638577938\n",
      "Epoch: 3, Batch: 10, Avg. Loss: 0.07618185840547084\n",
      "Epoch: 3, Batch: 20, Avg. Loss: 0.09025278128683567\n",
      "Epoch: 3, Batch: 30, Avg. Loss: 0.09801201783120632\n",
      "Epoch: 3, Batch: 40, Avg. Loss: 0.09885386824607849\n",
      "Epoch: 3, Batch: 50, Avg. Loss: 0.09630193784832955\n",
      "Epoch: 3, Batch: 60, Avg. Loss: 0.11158804595470428\n",
      "Epoch: 3, Batch: 70, Avg. Loss: 0.10206152126193047\n",
      "Epoch: 3, Batch: 80, Avg. Loss: 0.09044230319559574\n",
      "Epoch: 3, Batch: 90, Avg. Loss: 0.10799045450985431\n",
      "Epoch: 3, Batch: 100, Avg. Loss: 0.09351195469498634\n",
      "Epoch: 3, Batch: 110, Avg. Loss: 0.15339806899428368\n",
      "Epoch: 3, Batch: 120, Avg. Loss: 0.10695161372423172\n",
      "Epoch: 3, Batch: 130, Avg. Loss: 0.08543871119618415\n",
      "Epoch: 3, Batch: 140, Avg. Loss: 0.14591726697981358\n",
      "Epoch: 3, Batch: 150, Avg. Loss: 0.07564992420375347\n",
      "Epoch: 3, Batch: 160, Avg. Loss: 0.12707354538142682\n",
      "Epoch: 3, Batch: 170, Avg. Loss: 0.0946417897939682\n",
      "Epoch: 3, Batch: 180, Avg. Loss: 0.09188057221472264\n",
      "Epoch: 3, Batch: 190, Avg. Loss: 0.14232873730361462\n",
      "Epoch: 3, Batch: 200, Avg. Loss: 0.0655942626297474\n",
      "Epoch: 3, Batch: 210, Avg. Loss: 0.10781539566814899\n",
      "Epoch: 3, Batch: 220, Avg. Loss: 0.09686468243598938\n",
      "Epoch: 3, Batch: 230, Avg. Loss: 0.1373819813132286\n",
      "Epoch: 3, Batch: 240, Avg. Loss: 0.08960401080548763\n",
      "Epoch: 3, Batch: 250, Avg. Loss: 0.08123065009713173\n",
      "Epoch: 3, Batch: 260, Avg. Loss: 0.07639918774366379\n",
      "Epoch: 3, Batch: 270, Avg. Loss: 0.07670127414166927\n",
      "Epoch: 3, Batch: 280, Avg. Loss: 0.06936430595815182\n",
      "Epoch: 3, Batch: 290, Avg. Loss: 0.07801530957221985\n",
      "Epoch: 3, Batch: 300, Avg. Loss: 0.07404738329350949\n",
      "Epoch: 3, Batch: 310, Avg. Loss: 0.0942092664539814\n",
      "Epoch: 3, Batch: 320, Avg. Loss: 0.06187913883477449\n",
      "Epoch: 3, Batch: 330, Avg. Loss: 0.06703067123889923\n",
      "Epoch: 3, Batch: 340, Avg. Loss: 0.06573745682835579\n",
      "Epoch: 3, Batch: 350, Avg. Loss: 0.1171945195645094\n",
      "Epoch: 3, Batch: 360, Avg. Loss: 0.10472979135811329\n",
      "Epoch: 3, Batch: 370, Avg. Loss: 0.07152527682483197\n",
      "Epoch: 3, Batch: 380, Avg. Loss: 0.08587304055690766\n",
      "Epoch: 3, Batch: 390, Avg. Loss: 0.10434874780476093\n",
      "Epoch: 3, Batch: 400, Avg. Loss: 0.08720076084136963\n",
      "Epoch: 3, Batch: 410, Avg. Loss: 0.07940024882555008\n",
      "Epoch: 3, Batch: 420, Avg. Loss: 0.06669602617621422\n",
      "Epoch: 3, Batch: 430, Avg. Loss: 0.07305048517882824\n",
      "Epoch: 4, Batch: 10, Avg. Loss: 0.08059101589024067\n",
      "Epoch: 4, Batch: 20, Avg. Loss: 0.09350299835205078\n",
      "Epoch: 4, Batch: 30, Avg. Loss: 0.08635224029421806\n",
      "Epoch: 4, Batch: 40, Avg. Loss: 0.07286480329930782\n",
      "Epoch: 4, Batch: 50, Avg. Loss: 0.0698552556335926\n",
      "Epoch: 4, Batch: 60, Avg. Loss: 0.10734585039317608\n",
      "Epoch: 4, Batch: 70, Avg. Loss: 0.059510106593370436\n",
      "Epoch: 4, Batch: 80, Avg. Loss: 0.06648747194558383\n",
      "Epoch: 4, Batch: 90, Avg. Loss: 0.07091428786516189\n",
      "Epoch: 4, Batch: 100, Avg. Loss: 0.0683934174478054\n",
      "Epoch: 4, Batch: 110, Avg. Loss: 0.057114938646554946\n",
      "Epoch: 4, Batch: 120, Avg. Loss: 0.06144988685846329\n",
      "Epoch: 4, Batch: 130, Avg. Loss: 0.06310541965067387\n",
      "Epoch: 4, Batch: 140, Avg. Loss: 0.05547499917447567\n",
      "Epoch: 4, Batch: 150, Avg. Loss: 0.05402301624417305\n",
      "Epoch: 4, Batch: 160, Avg. Loss: 0.13627376183867454\n",
      "Epoch: 4, Batch: 170, Avg. Loss: 0.10587653405964374\n",
      "Epoch: 4, Batch: 180, Avg. Loss: 0.08322227038443089\n",
      "Epoch: 4, Batch: 190, Avg. Loss: 0.10564704872667789\n",
      "Epoch: 4, Batch: 200, Avg. Loss: 0.0645790696144104\n",
      "Epoch: 4, Batch: 210, Avg. Loss: 0.0929586473852396\n",
      "Epoch: 4, Batch: 220, Avg. Loss: 0.09194751475006342\n",
      "Epoch: 4, Batch: 230, Avg. Loss: 0.06597759127616883\n",
      "Epoch: 4, Batch: 240, Avg. Loss: 0.07454916536808014\n",
      "Epoch: 4, Batch: 250, Avg. Loss: 0.10490414053201676\n",
      "Epoch: 4, Batch: 260, Avg. Loss: 0.06972113996744156\n",
      "Epoch: 4, Batch: 270, Avg. Loss: 0.08115529865026475\n"
     ]
    },
    {
     "name": "stdout",
     "output_type": "stream",
     "text": [
      "Epoch: 4, Batch: 280, Avg. Loss: 0.07429677098989487\n",
      "Epoch: 4, Batch: 290, Avg. Loss: 0.06733785830438137\n",
      "Epoch: 4, Batch: 300, Avg. Loss: 0.07211911622434855\n",
      "Epoch: 4, Batch: 310, Avg. Loss: 0.08604436814785003\n",
      "Epoch: 4, Batch: 320, Avg. Loss: 0.0803734552115202\n",
      "Epoch: 4, Batch: 330, Avg. Loss: 0.09474700707942248\n",
      "Epoch: 4, Batch: 340, Avg. Loss: 0.10631213150918484\n",
      "Epoch: 4, Batch: 350, Avg. Loss: 0.1094683587551117\n",
      "Epoch: 4, Batch: 360, Avg. Loss: 0.07126886025071144\n",
      "Epoch: 4, Batch: 370, Avg. Loss: 0.0791294265538454\n",
      "Epoch: 4, Batch: 380, Avg. Loss: 0.060937033593654634\n",
      "Epoch: 4, Batch: 390, Avg. Loss: 0.05716508664190769\n",
      "Epoch: 4, Batch: 400, Avg. Loss: 0.056372273899614814\n",
      "Epoch: 4, Batch: 410, Avg. Loss: 0.062209992110729216\n",
      "Epoch: 4, Batch: 420, Avg. Loss: 0.058430390432477\n",
      "Epoch: 4, Batch: 430, Avg. Loss: 0.06479942463338376\n",
      "Epoch: 5, Batch: 10, Avg. Loss: 0.058714963123202325\n",
      "Epoch: 5, Batch: 20, Avg. Loss: 0.05211032573133707\n",
      "Epoch: 5, Batch: 30, Avg. Loss: 0.19242240451276302\n",
      "Epoch: 5, Batch: 40, Avg. Loss: 0.07148867584764958\n",
      "Epoch: 5, Batch: 50, Avg. Loss: 0.08641655743122101\n",
      "Epoch: 5, Batch: 60, Avg. Loss: 0.06911485493183137\n",
      "Epoch: 5, Batch: 70, Avg. Loss: 0.08302591703832149\n",
      "Epoch: 5, Batch: 80, Avg. Loss: 0.09674105495214462\n",
      "Epoch: 5, Batch: 90, Avg. Loss: 0.06709240227937699\n",
      "Epoch: 5, Batch: 100, Avg. Loss: 0.06075304187834263\n",
      "Epoch: 5, Batch: 110, Avg. Loss: 0.057176641374826434\n",
      "Epoch: 5, Batch: 120, Avg. Loss: 0.06397822685539722\n",
      "Epoch: 5, Batch: 130, Avg. Loss: 0.11980582736432552\n",
      "Epoch: 5, Batch: 140, Avg. Loss: 0.10977173633873463\n",
      "Epoch: 5, Batch: 150, Avg. Loss: 0.06499650776386261\n",
      "Epoch: 5, Batch: 160, Avg. Loss: 0.08851897530257702\n",
      "Epoch: 5, Batch: 170, Avg. Loss: 0.1052263904362917\n",
      "Epoch: 5, Batch: 180, Avg. Loss: 0.06003202199935913\n",
      "Epoch: 5, Batch: 190, Avg. Loss: 0.05979632847011089\n",
      "Epoch: 5, Batch: 200, Avg. Loss: 0.14213173203170298\n",
      "Epoch: 5, Batch: 210, Avg. Loss: 0.0761862512677908\n",
      "Epoch: 5, Batch: 220, Avg. Loss: 0.08049261197447777\n",
      "Epoch: 5, Batch: 230, Avg. Loss: 0.08027961477637291\n",
      "Epoch: 5, Batch: 240, Avg. Loss: 0.07488650623708963\n",
      "Epoch: 5, Batch: 250, Avg. Loss: 0.06070666536688805\n",
      "Epoch: 5, Batch: 260, Avg. Loss: 0.05976447537541389\n",
      "Epoch: 5, Batch: 270, Avg. Loss: 0.06242263652384281\n",
      "Epoch: 5, Batch: 280, Avg. Loss: 0.06457115579396486\n",
      "Epoch: 5, Batch: 290, Avg. Loss: 0.054460004344582556\n",
      "Epoch: 5, Batch: 300, Avg. Loss: 0.050157461687922476\n",
      "Epoch: 5, Batch: 310, Avg. Loss: 0.2100801646709442\n",
      "Epoch: 5, Batch: 320, Avg. Loss: 0.07447828352451324\n",
      "Epoch: 5, Batch: 330, Avg. Loss: 0.050218602642416954\n",
      "Epoch: 5, Batch: 340, Avg. Loss: 0.06960198022425175\n",
      "Epoch: 5, Batch: 350, Avg. Loss: 0.0705844160169363\n",
      "Epoch: 5, Batch: 360, Avg. Loss: 0.05769283510744572\n",
      "Epoch: 5, Batch: 370, Avg. Loss: 0.05556770600378513\n",
      "Epoch: 5, Batch: 380, Avg. Loss: 0.06663087531924247\n",
      "Epoch: 5, Batch: 390, Avg. Loss: 0.09374691657721997\n",
      "Epoch: 5, Batch: 400, Avg. Loss: 0.053723229467868804\n",
      "Epoch: 5, Batch: 410, Avg. Loss: 0.060858433693647386\n",
      "Epoch: 5, Batch: 420, Avg. Loss: 0.0630462009459734\n",
      "Epoch: 5, Batch: 430, Avg. Loss: 0.06621704120188951\n",
      "Epoch: 6, Batch: 10, Avg. Loss: 0.12103985957801341\n",
      "Epoch: 6, Batch: 20, Avg. Loss: 0.07137998305261135\n",
      "Epoch: 6, Batch: 30, Avg. Loss: 0.07191620897501708\n",
      "Epoch: 6, Batch: 40, Avg. Loss: 0.05373948998749256\n",
      "Epoch: 6, Batch: 50, Avg. Loss: 0.12070058174431324\n",
      "Epoch: 6, Batch: 60, Avg. Loss: 0.07282754443585873\n",
      "Epoch: 6, Batch: 70, Avg. Loss: 0.04759200382977724\n",
      "Epoch: 6, Batch: 80, Avg. Loss: 0.05904344096779823\n",
      "Epoch: 6, Batch: 90, Avg. Loss: 0.1253945829346776\n",
      "Epoch: 6, Batch: 100, Avg. Loss: 0.0931209847331047\n",
      "Epoch: 6, Batch: 110, Avg. Loss: 0.07585911303758622\n",
      "Epoch: 6, Batch: 120, Avg. Loss: 0.10022032335400581\n",
      "Epoch: 6, Batch: 130, Avg. Loss: 0.0607511579990387\n",
      "Epoch: 6, Batch: 140, Avg. Loss: 0.06479662880301476\n",
      "Epoch: 6, Batch: 150, Avg. Loss: 0.0543777285143733\n",
      "Epoch: 6, Batch: 160, Avg. Loss: 0.07376567274332047\n",
      "Epoch: 6, Batch: 170, Avg. Loss: 0.0574485681951046\n",
      "Epoch: 6, Batch: 180, Avg. Loss: 0.05125988349318504\n",
      "Epoch: 6, Batch: 190, Avg. Loss: 0.055948781222105025\n",
      "Epoch: 6, Batch: 200, Avg. Loss: 0.05432542860507965\n",
      "Epoch: 6, Batch: 210, Avg. Loss: 0.050305912643671034\n",
      "Epoch: 6, Batch: 220, Avg. Loss: 0.07164711989462376\n",
      "Epoch: 6, Batch: 230, Avg. Loss: 0.05355611816048622\n",
      "Epoch: 6, Batch: 240, Avg. Loss: 0.05651388838887215\n",
      "Epoch: 6, Batch: 250, Avg. Loss: 0.06597611457109451\n",
      "Epoch: 6, Batch: 260, Avg. Loss: 0.0491113968193531\n",
      "Epoch: 6, Batch: 270, Avg. Loss: 0.06391566321253776\n",
      "Epoch: 6, Batch: 280, Avg. Loss: 0.09335826132446527\n",
      "Epoch: 6, Batch: 290, Avg. Loss: 0.11026703864336014\n",
      "Epoch: 6, Batch: 300, Avg. Loss: 0.07105697318911552\n",
      "Epoch: 6, Batch: 310, Avg. Loss: 0.050503207929432394\n",
      "Epoch: 6, Batch: 320, Avg. Loss: 0.05407744385302067\n",
      "Epoch: 6, Batch: 330, Avg. Loss: 0.05431360229849815\n",
      "Epoch: 6, Batch: 340, Avg. Loss: 0.05645063556730747\n",
      "Epoch: 6, Batch: 350, Avg. Loss: 0.09723669216036797\n",
      "Epoch: 6, Batch: 360, Avg. Loss: 0.059915180504322055\n",
      "Epoch: 6, Batch: 370, Avg. Loss: 0.04846572857350111\n",
      "Epoch: 6, Batch: 380, Avg. Loss: 0.06475733146071434\n",
      "Epoch: 6, Batch: 390, Avg. Loss: 0.045358788780868055\n",
      "Epoch: 6, Batch: 400, Avg. Loss: 0.059231152571737763\n",
      "Epoch: 6, Batch: 410, Avg. Loss: 0.06351877599954606\n",
      "Epoch: 6, Batch: 420, Avg. Loss: 0.05437929425388575\n",
      "Epoch: 6, Batch: 430, Avg. Loss: 0.053168683871626855\n",
      "Epoch: 7, Batch: 10, Avg. Loss: 0.0698006784543395\n",
      "Epoch: 7, Batch: 20, Avg. Loss: 0.058590200170874594\n",
      "Epoch: 7, Batch: 30, Avg. Loss: 0.06950881108641624\n",
      "Epoch: 7, Batch: 40, Avg. Loss: 0.05609855279326439\n",
      "Epoch: 7, Batch: 50, Avg. Loss: 0.043920953013002875\n",
      "Epoch: 7, Batch: 60, Avg. Loss: 0.0641485784202814\n",
      "Epoch: 7, Batch: 70, Avg. Loss: 0.0473241463303566\n",
      "Epoch: 7, Batch: 80, Avg. Loss: 0.0489612203091383\n",
      "Epoch: 7, Batch: 90, Avg. Loss: 0.06211771070957184\n",
      "Epoch: 7, Batch: 100, Avg. Loss: 0.04745503086596727\n",
      "Epoch: 7, Batch: 110, Avg. Loss: 0.05337649527937174\n",
      "Epoch: 7, Batch: 120, Avg. Loss: 0.10345235578715802\n",
      "Epoch: 7, Batch: 130, Avg. Loss: 0.056728754192590714\n",
      "Epoch: 7, Batch: 140, Avg. Loss: 0.07051416747272014\n",
      "Epoch: 7, Batch: 150, Avg. Loss: 0.050397758930921556\n",
      "Epoch: 7, Batch: 160, Avg. Loss: 0.055617040023207664\n",
      "Epoch: 7, Batch: 170, Avg. Loss: 0.05990300215780735\n",
      "Epoch: 7, Batch: 180, Avg. Loss: 0.04812117666006088\n",
      "Epoch: 7, Batch: 190, Avg. Loss: 0.041428229212760924\n",
      "Epoch: 7, Batch: 200, Avg. Loss: 0.04944751784205437\n",
      "Epoch: 7, Batch: 210, Avg. Loss: 0.06214915812015533\n",
      "Epoch: 7, Batch: 220, Avg. Loss: 0.040469395369291304\n",
      "Epoch: 7, Batch: 230, Avg. Loss: 0.051147560402750966\n",
      "Epoch: 7, Batch: 240, Avg. Loss: 0.06881372015923262\n",
      "Epoch: 7, Batch: 250, Avg. Loss: 0.04705309830605984\n",
      "Epoch: 7, Batch: 260, Avg. Loss: 0.05537679716944695\n",
      "Epoch: 7, Batch: 270, Avg. Loss: 0.047774171270430085\n",
      "Epoch: 7, Batch: 280, Avg. Loss: 0.04393127504736185\n",
      "Epoch: 7, Batch: 290, Avg. Loss: 0.05966209042817354\n",
      "Epoch: 7, Batch: 300, Avg. Loss: 0.04608156401664019\n",
      "Epoch: 7, Batch: 310, Avg. Loss: 0.054897055588662626\n",
      "Epoch: 7, Batch: 320, Avg. Loss: 0.06317833252251148\n",
      "Epoch: 7, Batch: 330, Avg. Loss: 0.052730186656117436\n",
      "Epoch: 7, Batch: 340, Avg. Loss: 0.04854005854576826\n",
      "Epoch: 7, Batch: 350, Avg. Loss: 0.05113579574972391\n",
      "Epoch: 7, Batch: 360, Avg. Loss: 0.03941644988954067\n",
      "Epoch: 7, Batch: 370, Avg. Loss: 0.07790720313787461\n",
      "Epoch: 7, Batch: 380, Avg. Loss: 0.18441072888672352\n",
      "Epoch: 7, Batch: 390, Avg. Loss: 0.04516302011907101\n",
      "Epoch: 7, Batch: 400, Avg. Loss: 0.15692089684307575\n",
      "Epoch: 7, Batch: 410, Avg. Loss: 0.06965567246079445\n",
      "Epoch: 7, Batch: 420, Avg. Loss: 0.056726645305752756\n",
      "Epoch: 7, Batch: 430, Avg. Loss: 0.08811061605811119\n",
      "Epoch: 8, Batch: 10, Avg. Loss: 0.10703964419662952\n",
      "Epoch: 8, Batch: 20, Avg. Loss: 0.06286581605672836\n",
      "Epoch: 8, Batch: 30, Avg. Loss: 0.04944857731461525\n",
      "Epoch: 8, Batch: 40, Avg. Loss: 0.1729098990559578\n",
      "Epoch: 8, Batch: 50, Avg. Loss: 0.04754066839814186\n",
      "Epoch: 8, Batch: 60, Avg. Loss: 0.05265569724142551\n",
      "Epoch: 8, Batch: 70, Avg. Loss: 0.04567064363509417\n",
      "Epoch: 8, Batch: 80, Avg. Loss: 0.0507751502096653\n",
      "Epoch: 8, Batch: 90, Avg. Loss: 0.08533216267824173\n",
      "Epoch: 8, Batch: 100, Avg. Loss: 0.12661768607795237\n",
      "Epoch: 8, Batch: 110, Avg. Loss: 0.06944420300424099\n"
     ]
    },
    {
     "name": "stdout",
     "output_type": "stream",
     "text": [
      "Epoch: 8, Batch: 120, Avg. Loss: 0.058416926115751264\n",
      "Epoch: 8, Batch: 130, Avg. Loss: 0.07060604803264141\n",
      "Epoch: 8, Batch: 140, Avg. Loss: 0.06019981931895017\n",
      "Epoch: 8, Batch: 150, Avg. Loss: 0.046921387687325476\n",
      "Epoch: 8, Batch: 160, Avg. Loss: 0.05424821339547634\n",
      "Epoch: 8, Batch: 170, Avg. Loss: 0.07334801331162452\n",
      "Epoch: 8, Batch: 180, Avg. Loss: 0.04538552351295948\n",
      "Epoch: 8, Batch: 190, Avg. Loss: 0.07854183465242386\n"
     ]
    }
   ],
   "source": [
    "# train your network\n",
    "n_epochs = 50 # start small, and increase when you've decided on your model structure and hyperparams\n",
    "\n",
    "# this is a Workspaces-specific context manager to keep the connection\n",
    "# alive while training your model, not part of pytorch\n",
    "# with active_session():\n",
    "train_net(n_epochs)"
   ]
  },
  {
   "cell_type": "markdown",
   "metadata": {},
   "source": [
    "## Test data\n",
    "\n",
    "See how your model performs on previously unseen, test data. We've already loaded and transformed this data, similar to the training data. Next, run your trained model on these images to see what kind of keypoints are produced. You should be able to see if your model is fitting each new face it sees, if the points are distributed randomly, or if the points have actually overfitted the training data and do not generalize."
   ]
  },
  {
   "cell_type": "code",
   "execution_count": null,
   "metadata": {},
   "outputs": [],
   "source": [
    "# get a sample of test data again\n",
    "test_images, test_outputs, gt_pts = net_sample_output()\n",
    "\n",
    "print(test_images.data.size())\n",
    "print(test_outputs.data.size())\n",
    "print(gt_pts.size())"
   ]
  },
  {
   "cell_type": "code",
   "execution_count": null,
   "metadata": {},
   "outputs": [],
   "source": [
    "## TODO: visualize your test output\n",
    "# you can use the same function as before, by un-commenting the line below:\n",
    "\n",
    "visualize_output(test_images, test_outputs, gt_pts)\n"
   ]
  },
  {
   "cell_type": "markdown",
   "metadata": {},
   "source": [
    "Once you've found a good model (or two), save your model so you can load it and use it later!\n",
    "\n",
    "Save your models but please **delete any checkpoints and saved models before you submit your project** otherwise your workspace may be too large to submit."
   ]
  },
  {
   "cell_type": "code",
   "execution_count": null,
   "metadata": {},
   "outputs": [],
   "source": [
    "## TODO: change the name to something uniqe for each new model\n",
    "model_dir = 'saved_models/'\n",
    "model_name = 'keypoints_model_2.pt'\n",
    "\n",
    "# after training, save your model parameters in the dir 'saved_models'\n",
    "torch.save(net.state_dict(), model_dir+model_name)"
   ]
  },
  {
   "cell_type": "markdown",
   "metadata": {},
   "source": [
    "After you've trained a well-performing model, answer the following questions so that we have some insight into your training and architecture selection process. Answering all questions is required to pass this project."
   ]
  },
  {
   "cell_type": "markdown",
   "metadata": {},
   "source": [
    "### Question 1: What optimization and loss functions did you choose and why?\n"
   ]
  },
  {
   "cell_type": "markdown",
   "metadata": {},
   "source": [
    "**Answer**: write your answer here (double click to edit this cell)"
   ]
  },
  {
   "cell_type": "markdown",
   "metadata": {},
   "source": [
    "### Question 2: What kind of network architecture did you start with and how did it change as you tried different architectures? Did you decide to add more convolutional layers or any layers to avoid overfitting the data?"
   ]
  },
  {
   "cell_type": "markdown",
   "metadata": {},
   "source": [
    "**Answer**: write your answer here"
   ]
  },
  {
   "cell_type": "markdown",
   "metadata": {},
   "source": [
    "### Question 3: How did you decide on the number of epochs and batch_size to train your model?"
   ]
  },
  {
   "cell_type": "markdown",
   "metadata": {},
   "source": [
    "**Answer**: write your answer here"
   ]
  },
  {
   "cell_type": "markdown",
   "metadata": {},
   "source": [
    "## Feature Visualization\n",
    "\n",
    "Sometimes, neural networks are thought of as a black box, given some input, they learn to produce some output. CNN's are actually learning to recognize a variety of spatial patterns and you can visualize what each convolutional layer has been trained to recognize by looking at the weights that make up each convolutional kernel and applying those one at a time to a sample image. This technique is called feature visualization and it's useful for understanding the inner workings of a CNN."
   ]
  },
  {
   "cell_type": "markdown",
   "metadata": {},
   "source": [
    "In the cell below, you can see how to extract a single filter (by index) from your first convolutional layer. The filter should appear as a grayscale grid."
   ]
  },
  {
   "cell_type": "code",
   "execution_count": null,
   "metadata": {},
   "outputs": [],
   "source": [
    "# Get the weights in the first conv layer, \"conv1\"\n",
    "# if necessary, change this to reflect the name of your first conv layer\n",
    "weights1 = net.conv1.weight.data\n",
    "\n",
    "w = weights1.numpy()\n",
    "\n",
    "filter_index = 0\n",
    "\n",
    "print(w[filter_index][0])\n",
    "print(w[filter_index][0].shape)\n",
    "\n",
    "# display the filter weights\n",
    "plt.imshow(w[filter_index][0], cmap='gray')\n"
   ]
  },
  {
   "cell_type": "markdown",
   "metadata": {},
   "source": [
    "## Feature maps\n",
    "\n",
    "Each CNN has at least one convolutional layer that is composed of stacked filters (also known as convolutional kernels). As a CNN trains, it learns what weights to include in it's convolutional kernels and when these kernels are applied to some input image, they produce a set of **feature maps**. So, feature maps are just sets of filtered images; they are the images produced by applying a convolutional kernel to an input image. These maps show us the features that the different layers of the neural network learn to extract. For example, you might imagine a convolutional kernel that detects the vertical edges of a face or another one that detects the corners of eyes. You can see what kind of features each of these kernels detects by applying them to an image. One such example is shown below; from the way it brings out the lines in an the image, you might characterize this as an edge detection filter.\n",
    "\n",
    "<img src='images/feature_map_ex.png' width=50% height=50%/>\n",
    "\n",
    "\n",
    "Next, choose a test image and filter it with one of the convolutional kernels in your trained CNN; look at the filtered output to get an idea what that particular kernel detects.\n",
    "\n",
    "### TODO: Filter an image to see the effect of a convolutional kernel\n",
    "---"
   ]
  },
  {
   "cell_type": "code",
   "execution_count": null,
   "metadata": {},
   "outputs": [],
   "source": [
    "##TODO: load in and display any image from the transformed test dataset\n",
    "# obtain one batch of testing images\n",
    "# img=test_images[0]\n",
    "\n",
    "# un-transform the image data\n",
    "image = test_images[1].data   # get the image from it's Variable wrapper\n",
    "image = image.numpy()   # convert to numpy array from a Tensor\n",
    "image = np.transpose(image, (1, 2, 0))   # transpose to go from torch to numpy image\n",
    "image = np.squeeze(image)\n",
    "plt.imshow(image)\n",
    "\n",
    "# # Use OpenCV's filter2D function \n",
    "# # apply a specific set of filter weights (like the one's displayed above) to the test image\n",
    "weights = net.conv1.weight.data\n",
    "w = weights.numpy()\n",
    "\n",
    "import cv2\n",
    "# plt.imshow(img, cmap='gray')\n",
    "# ## TODO: Using cv's filter2D function,\n",
    "# ## apply a specific set of filter weights (like the one displayed above) to the test image\n",
    "\n",
    "fig=plt.figure(figsize=(60, 60))\n",
    "filters=[3,5,6]\n",
    "f_names=['dark detector','vertical edge: brighter on the right','horizontal edge. brighter below']\n",
    "columns = 2\n",
    "rows = len(filters)\n",
    "# for i in range(0, columns*rows):\n",
    "for i in range(0, rows*columns):\n",
    "    fig.add_subplot(rows, columns, i+1)\n",
    "    if ((i%2)==0):\n",
    "        plt.imshow(w[filters[int(i/2)]][0], cmap='gray')\n",
    "    else:\n",
    "        c = cv2.filter2D(image, -1, w[filters[int((i-1)/2)]][0])\n",
    "        plt.imshow(c, cmap='gray')\n",
    "plt.show()"
   ]
  },
  {
   "cell_type": "markdown",
   "metadata": {},
   "source": [
    "### Question 4: Choose one filter from your trained CNN and apply it to a test image; what purpose do you think it plays? What kind of feature do you think it detects?\n"
   ]
  },
  {
   "cell_type": "markdown",
   "metadata": {},
   "source": [
    "**Answer**: (does it detect vertical lines or does it blur out noise, etc.) write your answer here"
   ]
  },
  {
   "cell_type": "markdown",
   "metadata": {},
   "source": [
    "---\n",
    "## Moving on!\n",
    "\n",
    "Now that you've defined and trained your model (and saved the best model), you are ready to move on to the last notebook, which combines a face detector with your saved model to create a facial keypoint detection system that can predict the keypoints on *any* face in an image!"
   ]
  }
 ],
 "metadata": {
  "kernelspec": {
   "display_name": "Python 3",
   "language": "python",
   "name": "python3"
  },
  "language_info": {
   "codemirror_mode": {
    "name": "ipython",
    "version": 3
   },
   "file_extension": ".py",
   "mimetype": "text/x-python",
   "name": "python",
   "nbconvert_exporter": "python",
   "pygments_lexer": "ipython3",
   "version": "3.6.5"
  }
 },
 "nbformat": 4,
 "nbformat_minor": 2
}
